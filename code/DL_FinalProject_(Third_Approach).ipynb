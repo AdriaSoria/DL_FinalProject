{
  "cells": [
    {
      "cell_type": "markdown",
      "metadata": {
        "id": "view-in-github",
        "colab_type": "text"
      },
      "source": [
        "<a href=\"https://colab.research.google.com/github/AdriaSoria/DL_FinalProject/blob/main/code/DL_FinalProject_(Third_Approach).ipynb\" target=\"_parent\"><img src=\"https://colab.research.google.com/assets/colab-badge.svg\" alt=\"Open In Colab\"/></a>"
      ]
    },
    {
      "cell_type": "markdown",
      "metadata": {
        "id": "8q6vLeXmw2q4"
      },
      "source": [
        "# <font color=CC0000> **Deep Learning**\n",
        "## <font color=CC0000> **Final Project: Energy Consumption Prediction**\n",
        "\n",
        "**P103 - Team L**\n",
        "\n",
        "*   Adrià Soria - 251729\n",
        "*   Judit Viladecans - 251437\n",
        "*   Paula Ceprián - 252503"
      ]
    },
    {
      "cell_type": "markdown",
      "metadata": {
        "id": "x9RpHHwbwHtO"
      },
      "source": [
        "# 0. Introduction\n",
        "\n",
        "This implementation presents a deep learning solution for predicting household electricity consumption patterns using Long Short-Term Memory (LSTM) networks. The primary objective is to forecast future power consumption values based on historical usage data, helping to anticipate energy demands at the household level. By analyzing temporal sequences of power-related features including global active power, reactive power, voltage, and current intensity, the model learns to recognize and predict consumption patterns across different time periods. This predictive capability has practical applications in smart home energy management, helping households optimize their energy usage and potentially reduce costs.\n",
        "\n",
        "The focus here is to:\n",
        "\n",
        "- **Train and run** a predictive model using  a sequence-to-sequence architecture with LSTM neural networks to forecast household electricity consumption.\n",
        "- **Iteratively enhance the basic LSTM architecture** through various optimization strategies to maximize prediction accuracy.\n",
        "- **Exploration of advanced features in the model design**, such as stateful LSTM layers and time series cross-validation, to improve upon the basic implementation and achieve more robust predictions."
      ]
    },
    {
      "cell_type": "markdown",
      "source": [
        "# 1. Model Design"
      ],
      "metadata": {
        "id": "yVCdvUFuLDbq"
      }
    },
    {
      "cell_type": "markdown",
      "source": [
        "### 1.1. Import Basic Libraries and Dataset\n",
        "In this section, we import the essential libraries for the model architecture design. The `clean_dataset.csv` dataset is loaded to preprocess and start the model training."
      ],
      "metadata": {
        "id": "wC3l7FAMLMh8"
      }
    },
    {
      "cell_type": "code",
      "execution_count": null,
      "metadata": {
        "id": "rMAvdNO4C8Kr"
      },
      "outputs": [],
      "source": [
        "import numpy as np\n",
        "import matplotlib.pyplot as plt\n",
        "import pandas as pd\n",
        "import time\n",
        "import random\n",
        "from math import sqrt\n",
        "from collections import deque\n",
        "\n",
        "from sklearn import preprocessing\n",
        "from sklearn.preprocessing import MinMaxScaler\n",
        "from sklearn import metrics\n",
        "from sklearn.metrics import mean_squared_error, r2_score, mean_squared_log_error\n",
        "from sklearn.model_selection import TimeSeriesSplit\n",
        "\n",
        "\n",
        "import tensorflow as tf\n",
        "from tensorflow import keras\n",
        "\n",
        "from tensorflow.keras.models import Sequential\n",
        "from tensorflow.keras.layers import Dense, Dropout, LSTM, Activation, Bidirectional, Input, Conv2D, Lambda,Reshape, Conv1D, Attention\n",
        "from tensorflow.keras.layers import Flatten, TimeDistributed, LayerNormalization, Add\n",
        "from tensorflow.keras.models import Model\n",
        "from tensorflow.keras.optimizers import Adam\n",
        "\n",
        "from tensorflow.keras.callbacks import TensorBoard, ModelCheckpoint, EarlyStopping\n",
        "\n",
        "\n",
        "from google.colab import drive\n",
        "import os\n"
      ]
    },
    {
      "cell_type": "code",
      "execution_count": null,
      "metadata": {
        "colab": {
          "base_uri": "https://localhost:8080/"
        },
        "id": "0ppnj9oOm88D",
        "outputId": "68d3f9b4-3994-4fe0-e775-b7d6b61262b0"
      },
      "outputs": [
        {
          "output_type": "stream",
          "name": "stdout",
          "text": [
            "Mounted at /content/drive\n"
          ]
        }
      ],
      "source": [
        "drive.mount('/content/drive')\n",
        "project_path = '/content/drive/Shareddrives/Deep Learning 2025/UPF_Deep_Learning_2025/Project/' #Change path to your dataset location\n",
        "\n",
        "os.chdir(project_path)"
      ]
    },
    {
      "cell_type": "code",
      "execution_count": null,
      "metadata": {
        "id": "4P8XgcMcFQUt",
        "colab": {
          "base_uri": "https://localhost:8080/"
        },
        "outputId": "ec46b385-0297-4a7d-bb7e-261852784928"
      },
      "outputs": [
        {
          "output_type": "stream",
          "name": "stdout",
          "text": [
            "Initial data types:\n",
            "Datetime                  object\n",
            "Date                      object\n",
            "Time                      object\n",
            "Global Active Power      float64\n",
            "Global Reactive Power    float64\n",
            "Voltage                  float64\n",
            "Global Intensity         float64\n",
            "Sub Metering 1           float64\n",
            "Sub Metering 2           float64\n",
            "Sub Metering 3           float64\n",
            "Hour                       int64\n",
            "Year                       int64\n",
            "Year-Month                object\n",
            "Month                      int64\n",
            "Month-Day                 object\n",
            "dtype: object\n",
            "\n",
            "Final data types:\n",
            "Global_Active_Power      float64\n",
            "Global_Reactive_Power    float64\n",
            "Voltage                  float64\n",
            "Global_Intensity         float64\n",
            "Hour                       int32\n",
            "Month                      int32\n",
            "Day                        int32\n",
            "dtype: object\n",
            "\n",
            "Final columns:\n",
            "['Global_Active_Power', 'Global_Reactive_Power', 'Voltage', 'Global_Intensity', 'Hour', 'Month', 'Day']\n",
            "\n",
            "Shape of dataset: (34168, 7)\n",
            "\n",
            "First few rows of processed data:\n",
            "                     Global_Active_Power  Global_Reactive_Power     Voltage  \\\n",
            "Datetime                                                                      \n",
            "2006-12-16 17:00:00             4.222889               0.229000  234.643889   \n",
            "2006-12-16 18:00:00             3.632200               0.080033  234.580167   \n",
            "2006-12-16 19:00:00             3.400233               0.085233  233.232500   \n",
            "2006-12-16 20:00:00             3.268567               0.075100  234.071500   \n",
            "2006-12-16 21:00:00             3.056467               0.076667  237.158667   \n",
            "\n",
            "                     Global_Intensity  Hour  Month  Day  \n",
            "Datetime                                                 \n",
            "2006-12-16 17:00:00         18.100000    17     12   16  \n",
            "2006-12-16 18:00:00         15.600000    18     12   16  \n",
            "2006-12-16 19:00:00         14.503333    19     12   16  \n",
            "2006-12-16 20:00:00         13.916667    20     12   16  \n",
            "2006-12-16 21:00:00         13.046667    21     12   16  \n",
            "\n",
            "Dataset after preprocessing:\n",
            "                     Global_Active_Power  Global_Reactive_Power     Voltage  \\\n",
            "Datetime                                                                      \n",
            "2006-12-16 17:00:00             4.222889               0.229000  234.643889   \n",
            "2006-12-16 18:00:00             3.632200               0.080033  234.580167   \n",
            "2006-12-16 19:00:00             3.400233               0.085233  233.232500   \n",
            "2006-12-16 20:00:00             3.268567               0.075100  234.071500   \n",
            "2006-12-16 21:00:00             3.056467               0.076667  237.158667   \n",
            "\n",
            "                     Global_Intensity  Hour  Month  Day  \n",
            "Datetime                                                 \n",
            "2006-12-16 17:00:00         18.100000    17     12   16  \n",
            "2006-12-16 18:00:00         15.600000    18     12   16  \n",
            "2006-12-16 19:00:00         14.503333    19     12   16  \n",
            "2006-12-16 20:00:00         13.916667    20     12   16  \n",
            "2006-12-16 21:00:00         13.046667    21     12   16  \n",
            "\n",
            "Columns after preprocessing:\n",
            "['Global_Active_Power', 'Global_Reactive_Power', 'Voltage', 'Global_Intensity', 'Hour', 'Month', 'Day']\n",
            "\n",
            "Shape of dataset: (34168, 7)\n"
          ]
        }
      ],
      "source": [
        "df = pd.read_csv('clean_dataset.csv', sep=',', low_memory=False, encoding='utf-8')\n",
        "\n",
        "# Print initial data types\n",
        "print(\"Initial data types:\")\n",
        "print(df.dtypes)\n",
        "\n",
        "# 1. Handle datetime-related columns\n",
        "df['Datetime'] = pd.to_datetime(df['Datetime'])  # Convert to datetime\n",
        "df.set_index('Datetime', inplace=True)  # Set as index\n",
        "\n",
        "# 2. Drop redundant time-related columns since we have datetime index\n",
        "time_columns = ['Date', 'Time', 'Hour', 'Year', 'Year-Month', 'Month', 'Month-Day']\n",
        "df = df.drop(time_columns, axis=1)\n",
        "\n",
        "# 3. Drop sub-metering columns\n",
        "sub_metering_columns = ['Sub Metering 1', 'Sub Metering 2', 'Sub Metering 3']\n",
        "df = df.drop(sub_metering_columns, axis=1)\n",
        "\n",
        "# 4. Clean column names (remove spaces)\n",
        "df.columns = df.columns.str.replace(' ', '_')\n",
        "\n",
        "# 5. Ensure numeric columns are float\n",
        "numeric_columns = ['Global_Active_Power', 'Global_Reactive_Power', 'Voltage', 'Global_Intensity']\n",
        "for col in numeric_columns:\n",
        "    df[col] = df[col].astype('float64')\n",
        "\n",
        "# 6. Sort by datetime index and handle missing values\n",
        "df.sort_index(inplace=True)\n",
        "df.dropna(inplace=True)\n",
        "\n",
        "# 7. Resample to hourly data\n",
        "df = df.resample('1h').mean()\n",
        "df.dropna(inplace=True)\n",
        "\n",
        "# Now extract datetime-based features from the index\n",
        "df['Hour'] = df.index.hour\n",
        "df['Month'] = df.index.month\n",
        "df['Day'] = df.index.day\n",
        "\n",
        "# Print final information about the dataset\n",
        "print(\"\\nFinal data types:\")\n",
        "print(df.dtypes)\n",
        "print(\"\\nFinal columns:\")\n",
        "print(df.columns.tolist())\n",
        "print(\"\\nShape of dataset:\", df.shape)\n",
        "print(\"\\nFirst few rows of processed data:\")\n",
        "print(df.head())\n",
        "\n",
        "print(\"\\nDataset after preprocessing:\")\n",
        "print(df.head())\n",
        "print(\"\\nColumns after preprocessing:\")\n",
        "print(df.columns.tolist())\n",
        "print(\"\\nShape of dataset:\", df.shape)"
      ]
    },
    {
      "cell_type": "markdown",
      "source": [
        "The dataset captures hourly household power consumption through four electrical parameters (Global Active Power, Global Reactive Power, Voltage, and Global Intensity) across 34,168 measurements starting from December 2006. The data is structured as a time series with measurements taken every hour, starting from December 16, 2006, at 17:00. These four parameters provide a comprehensive view of the household's electrical consumption patterns, which will be used by our LSTM model to learn and predict future consumption values."
      ],
      "metadata": {
        "id": "1ripY1xNKJiq"
      }
    },
    {
      "cell_type": "code",
      "source": [
        "#### Data Preprocessing\n",
        "\n",
        "#### Moving Average filtering... smoothing our data\n",
        "\n",
        "######## Smothing our data at first\n",
        "df[numeric_columns] = df[numeric_columns].ewm(alpha=0.1).mean()\n",
        "df.dropna(inplace=True)\n",
        "\n",
        "# #Dropping the outlier rows with standard deviation\n",
        "factor = 5\n",
        "upper_lim = df['Global_Active_Power'].mean () + df['Global_Active_Power'].std () * factor\n",
        "lower_lim = df['Global_Active_Power'].mean () - df['Global_Active_Power'].std () * factor\n",
        "df = df[(df['Global_Active_Power'] < upper_lim) & (df['Global_Active_Power'] > lower_lim)]\n",
        "\n",
        "####### fill values summer of 2008\n",
        "\n",
        "times = pd.to_datetime(df.index)\n",
        "times = times.strftime(\"%Y-%m-%d\").tolist()\n",
        "temp = []\n",
        "for index,value in enumerate(times):\n",
        "  if(value > '2007-08-08' and value <'2007-09-01'):\n",
        "\n",
        "    #temp.append(float(df['Global_active_power'][index]))\n",
        "    temp.append(float(df.loc[df.index[index], 'Global_Active_Power']))\n",
        "\n",
        "temp = pd.Series(temp)\n",
        "temp = temp.ewm(alpha=0.15).mean()\n",
        "temp = temp.values\n",
        "\n",
        "k=0\n",
        "for index,value in enumerate(times):\n",
        "  if(value > '2008-08-08' and value <'2008-09-01'):\n",
        "    # Check if k is within the bounds of the temp array before assigning\n",
        "    if k < len(temp):\n",
        "        #df['Global_active_power'].iloc[index] = temp[k]\n",
        "        df.loc[df.index[index], 'Global_Active_Power'] = temp[k]\n",
        "        k += 1\n",
        "    else:\n",
        "        # Optional: Add a warning or break the loop if the end of temp is reached\n",
        "        print(f\"Warning: Ran out of replacement values from 2007 at index {index}\")\n",
        "        break\n",
        "\n",
        "\n",
        "print(f'df_shape arxika: {df.shape}\\n')"
      ],
      "metadata": {
        "colab": {
          "base_uri": "https://localhost:8080/"
        },
        "id": "K_0FcjHyKgoD",
        "outputId": "5dc7c846-0f19-4883-ea47-0d82f23d7218"
      },
      "execution_count": null,
      "outputs": [
        {
          "output_type": "stream",
          "name": "stdout",
          "text": [
            "df_shape arxika: (34153, 7)\n",
            "\n"
          ]
        }
      ]
    },
    {
      "cell_type": "code",
      "source": [
        "import matplotlib.dates as mdates\n",
        "\n",
        "df_copy = df.copy()\n",
        "df_copy = df_copy.reset_index()\n",
        "df_copy['Date'] = pd.to_datetime(df_copy['Datetime'], format='%Y-%m-%d %H:%M:$s').dt.date\n",
        "\n",
        "consumption = df_copy.groupby('Date')['Global_Active_Power'].mean()\n",
        "\n",
        "plt.figure(figsize=(12, 6))\n",
        "plt.style.use('default')\n",
        "\n",
        "consumption.plot(alpha=0.8, color='orange')\n",
        "plt.title('Consumption Over Time')\n",
        "plt.xlabel('Date')\n",
        "plt.ylabel('Global Active Power')\n",
        "\n",
        "# Format the x-axis to only show the year\n",
        "plt.gca().xaxis.set_major_locator(mdates.YearLocator())\n",
        "plt.gca().xaxis.set_major_formatter(mdates.DateFormatter('%Y-%m-%d'))\n",
        "plt.ylim(0, 3.5)\n",
        "\n",
        "plt.xticks(rotation=0, ha='center')\n",
        "\n",
        "plt.grid(True, linestyle='--', alpha=0.4)\n",
        "plt.tight_layout()\n",
        "\n",
        "plt.savefig('consumption_through_years_(smoothing).png', transparent=True)\n",
        "\n",
        "plt.show()"
      ],
      "metadata": {
        "colab": {
          "base_uri": "https://localhost:8080/",
          "height": 607
        },
        "id": "rkCkRrz5xfgN",
        "outputId": "757c2272-c73e-45a2-bffc-b9d6ce189659"
      },
      "execution_count": null,
      "outputs": [
        {
          "output_type": "display_data",
          "data": {
            "text/plain": [
              "<Figure size 1200x600 with 1 Axes>"
            ],
            "image/png": "[encoded data removed]"
          },
          "metadata": {}
        }
      ]
    },
    {
      "cell_type": "markdown",
      "source": [
        "We processes this time series data through several crucial steps: it first organizes the readings chronologically and standardizes the data format, then applies an exponential moving average (alpha=0.2) to smooth out short-term fluctuations in the measurements. To ensure data quality, it removes statistical outliers using a three-standard-deviation threshold and handles a specific data anomaly in the summer period of 2008 by filling it with smoothed values from the corresponding period in 2007."
      ],
      "metadata": {
        "id": "W9jpIe_RKrXl"
      }
    },
    {
      "cell_type": "markdown",
      "metadata": {
        "id": "Z36FrtJbDihu"
      },
      "source": [
        "### 1.2 LSTM Definition"
      ]
    },
    {
      "cell_type": "markdown",
      "source": [
        "This section presents the core functions and neural network architecture used for forecasting household power consumption. The code defines key parameters for sequence length, prediction horizon, and model training, and implements utility functions for error calculation, data preprocessing, and time series splitting. At its core, the section introduces a deep learning model based on a stateful LSTM (Long Short-Term Memory) architecture, designed to capture temporal dependencies in sequential power usage data. The model is structured to process sequences of historical measurements and predict future consumption, forming the foundation for the project's predictive analytics."
      ],
      "metadata": {
        "id": "PtovK5YlMFiY"
      }
    },
    {
      "cell_type": "code",
      "execution_count": null,
      "metadata": {
        "id": "g2pHs-qZC0FP"
      },
      "outputs": [],
      "source": [
        "def mean_absolute_percentage_error(y_true, y_pred):\n",
        "#     y_true, y_pred = check_arrays(y_true, y_pred)\n",
        "\n",
        "    ## Note: does not handle mix 1d representation\n",
        "    #if _is_1d(y_true):\n",
        "    #    y_true, y_pred = _check_1d_array(y_true, y_pred)\n",
        "\n",
        "    return np.mean(np.abs((y_true - y_pred) / y_true)) * 100\n",
        "\n",
        "\n",
        "def regression_accuracy(y_true, y_pred, tolerance):\n",
        "    \"\"\"\n",
        "    Calcula la \"accuracy\" de un modelo de regresión como el % de predicciones\n",
        "    que caen dentro de un margen relativo de tolerancia\n",
        "    \"\"\"\n",
        "    y_true = np.array(y_true)\n",
        "    y_pred = np.array(y_pred)\n",
        "    within_tolerance = np.abs(y_true - y_pred) <= (tolerance * np.abs(y_true))\n",
        "    return np.mean(within_tolerance) * 100  # en porcentaje\n",
        "\n",
        "\n",
        "def theil_u(yhat, y):\n",
        "\n",
        "  len_yhat = len(yhat)\n",
        "  sum1 = 0\n",
        "  sum2 = 0\n",
        "\n",
        "  for i in range(len_yhat-1):\n",
        "\n",
        "    sum1 += ( (yhat[i+1] - y[i+1]) / y[i] )**2\n",
        "    sum2 += ( (y[i+1] - y[i]) / y[i] )**2\n",
        "\n",
        "  return sqrt(sum1/sum2)\n",
        "\n",
        "\n",
        "def plot_history(loss, val_loss, epochs):\n",
        "\n",
        "  plt.figure(figsize=[15,8])\n",
        "  plt.figure()\n",
        "  plt.xlabel('Epoch')\n",
        "  plt.ylabel('Mean Square Error [$MPG^2$]')\n",
        "  plt.plot(range(epochs), loss, label='Train Error')\n",
        "  plt.plot(range(epochs), val_loss, label = 'Val Error')\n",
        "  plt.ylim([0.0,0.15])\n",
        "  plt.legend()\n",
        "  plt.show()\n",
        "\n",
        "\n",
        "def preprocess_df(df, shuffle=False):\n",
        "\n",
        "    sequential_data = []                    # this is a list that will CONTAIN the sequences\n",
        "    prev_days = deque(maxlen = SEQ_LEN)     # These will be our actual sequences.\n",
        "                                            # They are made with deque, which keeps the maximum length\n",
        "                                            # by popping out older values as new ones come in\n",
        "    for i in df.values:                                             # iterate over the values\n",
        "        prev_days.append([n for n in i[:-1]])                       # store all but the label\n",
        "        if len(prev_days) == SEQ_LEN:                               # make sure we have 30 sequences!\n",
        "            sequential_data.append([np.array(prev_days), i[-1]])    # append those bad boys!\n",
        "\n",
        "\n",
        "    if(shuffle == True):\n",
        "      random.shuffle(sequential_data)                                 # shuffle for good measure.\n",
        "\n",
        "\n",
        "    X = []\n",
        "    y = []\n",
        "\n",
        "    for seq, target in sequential_data:  # going over our new sequential data\n",
        "        X.append(seq)                    # X is the sequences (features)\n",
        "        y.append(target)                 # y is the targets/labels\n",
        "\n",
        "    return np.array(X), np.array(y)  # return X and y...and make X a numpy array!\n",
        "\n",
        "\n",
        "def train_length(length, batch_size):\n",
        "\n",
        "  length_values = []\n",
        "  for x in range( int(length)-100, int(length) ):\n",
        "    modulo = x % batch_size\n",
        "    if(modulo == 0 ):\n",
        "      length_values.append(x)\n",
        "\n",
        "  return ( max(length_values) )\n",
        "\n",
        "\n",
        "def split_data(df, percent):\n",
        "\n",
        "  length = len(df)\n",
        "  test_index = int(length*percent)\n",
        "  train_index = length - test_index\n",
        "  test_df = df[train_index:]\n",
        "  df = df[:train_index]\n",
        "\n",
        "  return test_df, df\n",
        "\n",
        "\n",
        "from tensorflow.keras.models import Sequential\n",
        "from tensorflow.keras.layers import Input, Conv1D, LSTM, Dense, LeakyReLU\n",
        "from tensorflow.keras.optimizers import Adam\n",
        "\n",
        "def get_model():\n",
        "    model = Sequential([\n",
        "        Input(shape=(SEQ_LEN, train_x.shape[2])),  # (timesteps, features)\n",
        "\n",
        "        Conv1D(filters=int(BATCH_SIZE / 2), kernel_size=3, padding='causal'),\n",
        "        LeakyReLU(alpha=0.01),\n",
        "\n",
        "        Conv1D(filters=BATCH_SIZE, kernel_size=3, padding='causal'),\n",
        "        LeakyReLU(alpha=0.01),\n",
        "\n",
        "        LSTM(BATCH_SIZE, return_sequences=False),\n",
        "\n",
        "        Dense(int(BATCH_SIZE / 2)),\n",
        "        LeakyReLU(alpha=0.01),\n",
        "\n",
        "        Dense(1)  # Output layer for regression\n",
        "    ])\n",
        "\n",
        "    model.compile(\n",
        "        loss='mae',\n",
        "        optimizer=Adam(learning_rate=0.001),\n",
        "        metrics=['mse', 'mae']\n",
        "    )\n",
        "\n",
        "    return model\n"
      ]
    },
    {
      "cell_type": "markdown",
      "source": [
        "# 2. Model Training"
      ],
      "metadata": {
        "id": "iPO_c0UNM340"
      }
    },
    {
      "cell_type": "markdown",
      "source": [
        "This section details the training procedure for the LSTM-based power consumption forecasting model. The code transforms the time series data into a supervised learning format, where the model learns to predict future power usage based on sequences of past measurements. It employs time series cross-validation to robustly assess model performance, splitting the data into training, validation, and test sets in a way that respects the temporal order of the data. During each split, the model is trained, validated, and evaluated using several performance metrics, with careful handling of data scaling and LSTM state management. This systematic approach ensures that the model is both well-trained and fairly evaluated on unseen data, providing reliable insights into its predictive capabilities."
      ],
      "metadata": {
        "id": "IFADfY4zM73G"
      }
    },
    {
      "cell_type": "code",
      "source": [
        "SEQ_LEN = 100                    # how long of a preceeding sequence to collect for RNN (in 1hour minutes)\n",
        "FUTURE_PERIOD_PREDICT =  1      # how far into the future are we trying to predict? (in hours)\n",
        "EPOCHS = 30                     # how many passes through our data\n",
        "BATCH_SIZE = 64"
      ],
      "metadata": {
        "id": "BTjMA-GWMlNN"
      },
      "execution_count": null,
      "outputs": []
    },
    {
      "cell_type": "code",
      "execution_count": null,
      "metadata": {
        "colab": {
          "base_uri": "https://localhost:8080/",
          "height": 1000
        },
        "id": "9RYXomjV-NvA",
        "outputId": "6ef55420-b6e4-4dfc-b70b-7e29096ccf2f"
      },
      "outputs": [
        {
          "output_type": "stream",
          "name": "stdout",
          "text": [
            "                     Global_Active_Power    future\n",
            "Datetime                                          \n",
            "2006-12-16 22:00:00             3.191471  2.974897\n",
            "2006-12-16 23:00:00             2.974897  2.783085\n",
            "2006-12-17 00:00:00             2.783085  2.875533\n",
            "2006-12-17 01:00:00             2.875533  2.677740\n",
            "2006-12-17 02:00:00             2.677740  2.529743\n",
            "2006-12-17 03:00:00             2.529743  2.485988\n",
            "2006-12-17 04:00:00             2.485988  2.420388\n",
            "2006-12-17 05:00:00             2.420388  2.275543\n",
            "2006-12-17 06:00:00             2.275543  2.192996\n",
            "2006-12-17 07:00:00             2.192996  2.155875\n",
            "Yooooooo:(34152, 8)\n",
            "df:(25614, 8)  test_df:(8538, 8)\n",
            "df_shape(23053, 8)\n",
            "test_shape(8538, 8)\n",
            "Valid_shape(2561, 8)\n",
            "train_len before:22954 test_len:8439\n",
            "train_len after modulo:22912 test_len:8384\n",
            "Train_x shape:(22912, 100, 7) Train_y shape:(22912,)\n",
            "valid_x shape:(2432, 100, 7) valid_y shape:(2432,)\n",
            "Test_x shape:(8384, 100, 7) Test_y shape:(8384,) \n",
            "\n"
          ]
        },
        {
          "output_type": "stream",
          "name": "stderr",
          "text": [
            "/usr/local/lib/python3.11/dist-packages/keras/src/layers/activations/leaky_relu.py:41: UserWarning: Argument `alpha` is deprecated. Use `negative_slope` instead.\n",
            "  warnings.warn(\n"
          ]
        },
        {
          "output_type": "display_data",
          "data": {
            "text/plain": [
              "\u001b[1mModel: \"sequential_6\"\u001b[0m\n"
            ],
            "text/html": [
              "<pre style=\"white-space:pre;overflow-x:auto;line-height:normal;font-family:Menlo,'DejaVu Sans Mono',consolas,'Courier New',monospace\"><span style=\"font-weight: bold\">Model: \"sequential_6\"</span>\n",
              "</pre>\n"
            ]
          },
          "metadata": {}
        },
        {
          "output_type": "display_data",
          "data": {
            "text/plain": [
              "┏━━━━━━━━━━━━━━━━━━━━━━━━━━━━━━━━━┳━━━━━━━━━━━━━━━━━━━━━━━━┳━━━━━━━━━━━━━━━┓\n",
              "┃\u001b[1m \u001b[0m\u001b[1mLayer (type)                   \u001b[0m\u001b[1m \u001b[0m┃\u001b[1m \u001b[0m\u001b[1mOutput Shape          \u001b[0m\u001b[1m \u001b[0m┃\u001b[1m \u001b[0m\u001b[1m      Param #\u001b[0m\u001b[1m \u001b[0m┃\n",
              "┡━━━━━━━━━━━━━━━━━━━━━━━━━━━━━━━━━╇━━━━━━━━━━━━━━━━━━━━━━━━╇━━━━━━━━━━━━━━━┩\n",
              "│ conv1d_12 (\u001b[38;5;33mConv1D\u001b[0m)              │ (\u001b[38;5;45mNone\u001b[0m, \u001b[38;5;34m100\u001b[0m, \u001b[38;5;34m32\u001b[0m)        │           \u001b[38;5;34m704\u001b[0m │\n",
              "├─────────────────────────────────┼────────────────────────┼───────────────┤\n",
              "│ leaky_re_lu_18 (\u001b[38;5;33mLeakyReLU\u001b[0m)      │ (\u001b[38;5;45mNone\u001b[0m, \u001b[38;5;34m100\u001b[0m, \u001b[38;5;34m32\u001b[0m)        │             \u001b[38;5;34m0\u001b[0m │\n",
              "├─────────────────────────────────┼────────────────────────┼───────────────┤\n",
              "│ conv1d_13 (\u001b[38;5;33mConv1D\u001b[0m)              │ (\u001b[38;5;45mNone\u001b[0m, \u001b[38;5;34m100\u001b[0m, \u001b[38;5;34m64\u001b[0m)        │         \u001b[38;5;34m6,208\u001b[0m │\n",
              "├─────────────────────────────────┼────────────────────────┼───────────────┤\n",
              "│ leaky_re_lu_19 (\u001b[38;5;33mLeakyReLU\u001b[0m)      │ (\u001b[38;5;45mNone\u001b[0m, \u001b[38;5;34m100\u001b[0m, \u001b[38;5;34m64\u001b[0m)        │             \u001b[38;5;34m0\u001b[0m │\n",
              "├─────────────────────────────────┼────────────────────────┼───────────────┤\n",
              "│ lstm_6 (\u001b[38;5;33mLSTM\u001b[0m)                   │ (\u001b[38;5;45mNone\u001b[0m, \u001b[38;5;34m64\u001b[0m)             │        \u001b[38;5;34m33,024\u001b[0m │\n",
              "├─────────────────────────────────┼────────────────────────┼───────────────┤\n",
              "│ dense_12 (\u001b[38;5;33mDense\u001b[0m)                │ (\u001b[38;5;45mNone\u001b[0m, \u001b[38;5;34m32\u001b[0m)             │         \u001b[38;5;34m2,080\u001b[0m │\n",
              "├─────────────────────────────────┼────────────────────────┼───────────────┤\n",
              "│ leaky_re_lu_20 (\u001b[38;5;33mLeakyReLU\u001b[0m)      │ (\u001b[38;5;45mNone\u001b[0m, \u001b[38;5;34m32\u001b[0m)             │             \u001b[38;5;34m0\u001b[0m │\n",
              "├─────────────────────────────────┼────────────────────────┼───────────────┤\n",
              "│ dense_13 (\u001b[38;5;33mDense\u001b[0m)                │ (\u001b[38;5;45mNone\u001b[0m, \u001b[38;5;34m1\u001b[0m)              │            \u001b[38;5;34m33\u001b[0m │\n",
              "└─────────────────────────────────┴────────────────────────┴───────────────┘\n"
            ],
            "text/html": [
              "<pre style=\"white-space:pre;overflow-x:auto;line-height:normal;font-family:Menlo,'DejaVu Sans Mono',consolas,'Courier New',monospace\">┏━━━━━━━━━━━━━━━━━━━━━━━━━━━━━━━━━┳━━━━━━━━━━━━━━━━━━━━━━━━┳━━━━━━━━━━━━━━━┓\n",
              "┃<span style=\"font-weight: bold\"> Layer (type)                    </span>┃<span style=\"font-weight: bold\"> Output Shape           </span>┃<span style=\"font-weight: bold\">       Param # </span>┃\n",
              "┡━━━━━━━━━━━━━━━━━━━━━━━━━━━━━━━━━╇━━━━━━━━━━━━━━━━━━━━━━━━╇━━━━━━━━━━━━━━━┩\n",
              "│ conv1d_12 (<span style=\"color: #0087ff; text-decoration-color: #0087ff\">Conv1D</span>)              │ (<span style=\"color: #00d7ff; text-decoration-color: #00d7ff\">None</span>, <span style=\"color: #00af00; text-decoration-color: #00af00\">100</span>, <span style=\"color: #00af00; text-decoration-color: #00af00\">32</span>)        │           <span style=\"color: #00af00; text-decoration-color: #00af00\">704</span> │\n",
              "├─────────────────────────────────┼────────────────────────┼───────────────┤\n",
              "│ leaky_re_lu_18 (<span style=\"color: #0087ff; text-decoration-color: #0087ff\">LeakyReLU</span>)      │ (<span style=\"color: #00d7ff; text-decoration-color: #00d7ff\">None</span>, <span style=\"color: #00af00; text-decoration-color: #00af00\">100</span>, <span style=\"color: #00af00; text-decoration-color: #00af00\">32</span>)        │             <span style=\"color: #00af00; text-decoration-color: #00af00\">0</span> │\n",
              "├─────────────────────────────────┼────────────────────────┼───────────────┤\n",
              "│ conv1d_13 (<span style=\"color: #0087ff; text-decoration-color: #0087ff\">Conv1D</span>)              │ (<span style=\"color: #00d7ff; text-decoration-color: #00d7ff\">None</span>, <span style=\"color: #00af00; text-decoration-color: #00af00\">100</span>, <span style=\"color: #00af00; text-decoration-color: #00af00\">64</span>)        │         <span style=\"color: #00af00; text-decoration-color: #00af00\">6,208</span> │\n",
              "├─────────────────────────────────┼────────────────────────┼───────────────┤\n",
              "│ leaky_re_lu_19 (<span style=\"color: #0087ff; text-decoration-color: #0087ff\">LeakyReLU</span>)      │ (<span style=\"color: #00d7ff; text-decoration-color: #00d7ff\">None</span>, <span style=\"color: #00af00; text-decoration-color: #00af00\">100</span>, <span style=\"color: #00af00; text-decoration-color: #00af00\">64</span>)        │             <span style=\"color: #00af00; text-decoration-color: #00af00\">0</span> │\n",
              "├─────────────────────────────────┼────────────────────────┼───────────────┤\n",
              "│ lstm_6 (<span style=\"color: #0087ff; text-decoration-color: #0087ff\">LSTM</span>)                   │ (<span style=\"color: #00d7ff; text-decoration-color: #00d7ff\">None</span>, <span style=\"color: #00af00; text-decoration-color: #00af00\">64</span>)             │        <span style=\"color: #00af00; text-decoration-color: #00af00\">33,024</span> │\n",
              "├─────────────────────────────────┼────────────────────────┼───────────────┤\n",
              "│ dense_12 (<span style=\"color: #0087ff; text-decoration-color: #0087ff\">Dense</span>)                │ (<span style=\"color: #00d7ff; text-decoration-color: #00d7ff\">None</span>, <span style=\"color: #00af00; text-decoration-color: #00af00\">32</span>)             │         <span style=\"color: #00af00; text-decoration-color: #00af00\">2,080</span> │\n",
              "├─────────────────────────────────┼────────────────────────┼───────────────┤\n",
              "│ leaky_re_lu_20 (<span style=\"color: #0087ff; text-decoration-color: #0087ff\">LeakyReLU</span>)      │ (<span style=\"color: #00d7ff; text-decoration-color: #00d7ff\">None</span>, <span style=\"color: #00af00; text-decoration-color: #00af00\">32</span>)             │             <span style=\"color: #00af00; text-decoration-color: #00af00\">0</span> │\n",
              "├─────────────────────────────────┼────────────────────────┼───────────────┤\n",
              "│ dense_13 (<span style=\"color: #0087ff; text-decoration-color: #0087ff\">Dense</span>)                │ (<span style=\"color: #00d7ff; text-decoration-color: #00d7ff\">None</span>, <span style=\"color: #00af00; text-decoration-color: #00af00\">1</span>)              │            <span style=\"color: #00af00; text-decoration-color: #00af00\">33</span> │\n",
              "└─────────────────────────────────┴────────────────────────┴───────────────┘\n",
              "</pre>\n"
            ]
          },
          "metadata": {}
        },
        {
          "output_type": "display_data",
          "data": {
            "text/plain": [
              "\u001b[1m Total params: \u001b[0m\u001b[38;5;34m42,049\u001b[0m (164.25 KB)\n"
            ],
            "text/html": [
              "<pre style=\"white-space:pre;overflow-x:auto;line-height:normal;font-family:Menlo,'DejaVu Sans Mono',consolas,'Courier New',monospace\"><span style=\"font-weight: bold\"> Total params: </span><span style=\"color: #00af00; text-decoration-color: #00af00\">42,049</span> (164.25 KB)\n",
              "</pre>\n"
            ]
          },
          "metadata": {}
        },
        {
          "output_type": "display_data",
          "data": {
            "text/plain": [
              "\u001b[1m Trainable params: \u001b[0m\u001b[38;5;34m42,049\u001b[0m (164.25 KB)\n"
            ],
            "text/html": [
              "<pre style=\"white-space:pre;overflow-x:auto;line-height:normal;font-family:Menlo,'DejaVu Sans Mono',consolas,'Courier New',monospace\"><span style=\"font-weight: bold\"> Trainable params: </span><span style=\"color: #00af00; text-decoration-color: #00af00\">42,049</span> (164.25 KB)\n",
              "</pre>\n"
            ]
          },
          "metadata": {}
        },
        {
          "output_type": "display_data",
          "data": {
            "text/plain": [
              "\u001b[1m Non-trainable params: \u001b[0m\u001b[38;5;34m0\u001b[0m (0.00 B)\n"
            ],
            "text/html": [
              "<pre style=\"white-space:pre;overflow-x:auto;line-height:normal;font-family:Menlo,'DejaVu Sans Mono',consolas,'Courier New',monospace\"><span style=\"font-weight: bold\"> Non-trainable params: </span><span style=\"color: #00af00; text-decoration-color: #00af00\">0</span> (0.00 B)\n",
              "</pre>\n"
            ]
          },
          "metadata": {}
        },
        {
          "output_type": "stream",
          "name": "stdout",
          "text": [
            "Split: 2 Epochs: 0/30\n",
            "\u001b[1m358/358\u001b[0m \u001b[32m━━━━━━━━━━━━━━━━━━━━\u001b[0m\u001b[37m\u001b[0m \u001b[1m7s\u001b[0m 13ms/step - loss: 0.0584 - mae: 0.0584 - mse: 0.0069 - val_loss: 0.0194 - val_mae: 0.0194 - val_mse: 7.2384e-04\n",
            "Split: 2 Epochs: 1/30\n",
            "\u001b[1m358/358\u001b[0m \u001b[32m━━━━━━━━━━━━━━━━━━━━\u001b[0m\u001b[37m\u001b[0m \u001b[1m3s\u001b[0m 8ms/step - loss: 0.0227 - mae: 0.0227 - mse: 9.4140e-04 - val_loss: 0.0177 - val_mae: 0.0177 - val_mse: 5.7267e-04\n",
            "Split: 2 Epochs: 2/30\n",
            "\u001b[1m358/358\u001b[0m \u001b[32m━━━━━━━━━━━━━━━━━━━━\u001b[0m\u001b[37m\u001b[0m \u001b[1m3s\u001b[0m 8ms/step - loss: 0.0172 - mae: 0.0172 - mse: 5.6008e-04 - val_loss: 0.0134 - val_mae: 0.0134 - val_mse: 3.7283e-04\n",
            "Split: 2 Epochs: 3/30\n",
            "\u001b[1m358/358\u001b[0m \u001b[32m━━━━━━━━━━━━━━━━━━━━\u001b[0m\u001b[37m\u001b[0m \u001b[1m3s\u001b[0m 10ms/step - loss: 0.0159 - mae: 0.0159 - mse: 4.9128e-04 - val_loss: 0.0142 - val_mae: 0.0142 - val_mse: 3.6102e-04\n",
            "Split: 2 Epochs: 4/30\n",
            "\u001b[1m358/358\u001b[0m \u001b[32m━━━━━━━━━━━━━━━━━━━━\u001b[0m\u001b[37m\u001b[0m \u001b[1m3s\u001b[0m 8ms/step - loss: 0.0153 - mae: 0.0153 - mse: 4.5656e-04 - val_loss: 0.0149 - val_mae: 0.0149 - val_mse: 3.6679e-04\n",
            "Split: 2 Epochs: 5/30\n",
            "\u001b[1m358/358\u001b[0m \u001b[32m━━━━━━━━━━━━━━━━━━━━\u001b[0m\u001b[37m\u001b[0m \u001b[1m4s\u001b[0m 10ms/step - loss: 0.0154 - mae: 0.0154 - mse: 4.6586e-04 - val_loss: 0.0128 - val_mae: 0.0128 - val_mse: 3.2368e-04\n",
            "Split: 2 Epochs: 6/30\n",
            "\u001b[1m358/358\u001b[0m \u001b[32m━━━━━━━━━━━━━━━━━━━━\u001b[0m\u001b[37m\u001b[0m \u001b[1m3s\u001b[0m 9ms/step - loss: 0.0144 - mae: 0.0144 - mse: 4.2685e-04 - val_loss: 0.0126 - val_mae: 0.0126 - val_mse: 3.1871e-04\n",
            "Split: 2 Epochs: 7/30\n",
            "\u001b[1m358/358\u001b[0m \u001b[32m━━━━━━━━━━━━━━━━━━━━\u001b[0m\u001b[37m\u001b[0m \u001b[1m3s\u001b[0m 9ms/step - loss: 0.0147 - mae: 0.0147 - mse: 4.3237e-04 - val_loss: 0.0131 - val_mae: 0.0131 - val_mse: 3.5789e-04\n",
            "Split: 2 Epochs: 8/30\n",
            "\u001b[1m358/358\u001b[0m \u001b[32m━━━━━━━━━━━━━━━━━━━━\u001b[0m\u001b[37m\u001b[0m \u001b[1m3s\u001b[0m 8ms/step - loss: 0.0144 - mae: 0.0144 - mse: 4.2312e-04 - val_loss: 0.0128 - val_mae: 0.0128 - val_mse: 3.3695e-04\n",
            "Split: 2 Epochs: 9/30\n",
            "\u001b[1m358/358\u001b[0m \u001b[32m━━━━━━━━━━━━━━━━━━━━\u001b[0m\u001b[37m\u001b[0m \u001b[1m3s\u001b[0m 8ms/step - loss: 0.0146 - mae: 0.0146 - mse: 4.3679e-04 - val_loss: 0.0150 - val_mae: 0.0150 - val_mse: 4.4030e-04\n",
            "Split: 2 Epochs: 10/30\n",
            "\u001b[1m358/358\u001b[0m \u001b[32m━━━━━━━━━━━━━━━━━━━━\u001b[0m\u001b[37m\u001b[0m \u001b[1m3s\u001b[0m 8ms/step - loss: 0.0145 - mae: 0.0145 - mse: 4.1996e-04 - val_loss: 0.0131 - val_mae: 0.0131 - val_mse: 3.1788e-04\n",
            "Split: 2 Epochs: 11/30\n",
            "\u001b[1m358/358\u001b[0m \u001b[32m━━━━━━━━━━━━━━━━━━━━\u001b[0m\u001b[37m\u001b[0m \u001b[1m3s\u001b[0m 8ms/step - loss: 0.0142 - mae: 0.0142 - mse: 4.0777e-04 - val_loss: 0.0123 - val_mae: 0.0123 - val_mse: 3.2180e-04\n",
            "Split: 2 Epochs: 12/30\n",
            "\u001b[1m358/358\u001b[0m \u001b[32m━━━━━━━━━━━━━━━━━━━━\u001b[0m\u001b[37m\u001b[0m \u001b[1m3s\u001b[0m 8ms/step - loss: 0.0142 - mae: 0.0142 - mse: 4.1492e-04 - val_loss: 0.0129 - val_mae: 0.0129 - val_mse: 3.1113e-04\n",
            "Split: 2 Epochs: 13/30\n",
            "\u001b[1m358/358\u001b[0m \u001b[32m━━━━━━━━━━━━━━━━━━━━\u001b[0m\u001b[37m\u001b[0m \u001b[1m4s\u001b[0m 10ms/step - loss: 0.0142 - mae: 0.0142 - mse: 4.0761e-04 - val_loss: 0.0127 - val_mae: 0.0127 - val_mse: 3.5363e-04\n",
            "Split: 2 Epochs: 14/30\n",
            "\u001b[1m358/358\u001b[0m \u001b[32m━━━━━━━━━━━━━━━━━━━━\u001b[0m\u001b[37m\u001b[0m \u001b[1m3s\u001b[0m 8ms/step - loss: 0.0138 - mae: 0.0138 - mse: 3.9513e-04 - val_loss: 0.0121 - val_mae: 0.0121 - val_mse: 3.0135e-04\n",
            "Split: 2 Epochs: 15/30\n",
            "\u001b[1m358/358\u001b[0m \u001b[32m━━━━━━━━━━━━━━━━━━━━\u001b[0m\u001b[37m\u001b[0m \u001b[1m3s\u001b[0m 8ms/step - loss: 0.0140 - mae: 0.0140 - mse: 4.0472e-04 - val_loss: 0.0133 - val_mae: 0.0133 - val_mse: 3.6368e-04\n",
            "Split: 2 Epochs: 16/30\n",
            "\u001b[1m358/358\u001b[0m \u001b[32m━━━━━━━━━━━━━━━━━━━━\u001b[0m\u001b[37m\u001b[0m \u001b[1m4s\u001b[0m 11ms/step - loss: 0.0135 - mae: 0.0135 - mse: 3.8643e-04 - val_loss: 0.0120 - val_mae: 0.0120 - val_mse: 3.0104e-04\n",
            "Split: 2 Epochs: 17/30\n",
            "\u001b[1m358/358\u001b[0m \u001b[32m━━━━━━━━━━━━━━━━━━━━\u001b[0m\u001b[37m\u001b[0m \u001b[1m3s\u001b[0m 10ms/step - loss: 0.0136 - mae: 0.0136 - mse: 3.8315e-04 - val_loss: 0.0126 - val_mae: 0.0126 - val_mse: 3.4156e-04\n",
            "Split: 2 Epochs: 18/30\n",
            "\u001b[1m358/358\u001b[0m \u001b[32m━━━━━━━━━━━━━━━━━━━━\u001b[0m\u001b[37m\u001b[0m \u001b[1m3s\u001b[0m 8ms/step - loss: 0.0135 - mae: 0.0135 - mse: 3.7507e-04 - val_loss: 0.0121 - val_mae: 0.0121 - val_mse: 3.1334e-04\n",
            "Split: 2 Epochs: 19/30\n",
            "\u001b[1m358/358\u001b[0m \u001b[32m━━━━━━━━━━━━━━━━━━━━\u001b[0m\u001b[37m\u001b[0m \u001b[1m4s\u001b[0m 10ms/step - loss: 0.0135 - mae: 0.0135 - mse: 3.8537e-04 - val_loss: 0.0119 - val_mae: 0.0119 - val_mse: 3.0154e-04\n",
            "Split: 2 Epochs: 20/30\n",
            "\u001b[1m358/358\u001b[0m \u001b[32m━━━━━━━━━━━━━━━━━━━━\u001b[0m\u001b[37m\u001b[0m \u001b[1m3s\u001b[0m 8ms/step - loss: 0.0132 - mae: 0.0132 - mse: 3.7804e-04 - val_loss: 0.0125 - val_mae: 0.0125 - val_mse: 3.2148e-04\n",
            "Split: 2 Epochs: 21/30\n",
            "\u001b[1m358/358\u001b[0m \u001b[32m━━━━━━━━━━━━━━━━━━━━\u001b[0m\u001b[37m\u001b[0m \u001b[1m3s\u001b[0m 8ms/step - loss: 0.0139 - mae: 0.0139 - mse: 3.9177e-04 - val_loss: 0.0120 - val_mae: 0.0120 - val_mse: 2.9202e-04\n",
            "Split: 2 Epochs: 22/30\n",
            "\u001b[1m358/358\u001b[0m \u001b[32m━━━━━━━━━━━━━━━━━━━━\u001b[0m\u001b[37m\u001b[0m \u001b[1m4s\u001b[0m 10ms/step - loss: 0.0133 - mae: 0.0133 - mse: 3.8634e-04 - val_loss: 0.0130 - val_mae: 0.0130 - val_mse: 3.3228e-04\n",
            "Split: 2 Epochs: 23/30\n",
            "\u001b[1m358/358\u001b[0m \u001b[32m━━━━━━━━━━━━━━━━━━━━\u001b[0m\u001b[37m\u001b[0m \u001b[1m3s\u001b[0m 8ms/step - loss: 0.0132 - mae: 0.0132 - mse: 3.7855e-04 - val_loss: 0.0120 - val_mae: 0.0120 - val_mse: 2.8053e-04\n",
            "Split: 2 Epochs: 24/30\n",
            "\u001b[1m358/358\u001b[0m \u001b[32m━━━━━━━━━━━━━━━━━━━━\u001b[0m\u001b[37m\u001b[0m \u001b[1m3s\u001b[0m 8ms/step - loss: 0.0133 - mae: 0.0133 - mse: 3.8357e-04 - val_loss: 0.0121 - val_mae: 0.0121 - val_mse: 2.8609e-04\n",
            "Split: 2 Epochs: 25/30\n",
            "\u001b[1m358/358\u001b[0m \u001b[32m━━━━━━━━━━━━━━━━━━━━\u001b[0m\u001b[37m\u001b[0m \u001b[1m4s\u001b[0m 10ms/step - loss: 0.0135 - mae: 0.0135 - mse: 3.8809e-04 - val_loss: 0.0121 - val_mae: 0.0121 - val_mse: 2.9126e-04\n",
            "Split: 2 Epochs: 26/30\n",
            "\u001b[1m358/358\u001b[0m \u001b[32m━━━━━━━━━━━━━━━━━━━━\u001b[0m\u001b[37m\u001b[0m \u001b[1m3s\u001b[0m 8ms/step - loss: 0.0127 - mae: 0.0127 - mse: 3.5505e-04 - val_loss: 0.0120 - val_mae: 0.0120 - val_mse: 3.1097e-04\n",
            "Split: 2 Epochs: 27/30\n",
            "\u001b[1m358/358\u001b[0m \u001b[32m━━━━━━━━━━━━━━━━━━━━\u001b[0m\u001b[37m\u001b[0m \u001b[1m3s\u001b[0m 8ms/step - loss: 0.0131 - mae: 0.0131 - mse: 3.7094e-04 - val_loss: 0.0119 - val_mae: 0.0119 - val_mse: 3.1120e-04\n",
            "Split: 2 Epochs: 28/30\n",
            "\u001b[1m358/358\u001b[0m \u001b[32m━━━━━━━━━━━━━━━━━━━━\u001b[0m\u001b[37m\u001b[0m \u001b[1m3s\u001b[0m 10ms/step - loss: 0.0131 - mae: 0.0131 - mse: 3.6861e-04 - val_loss: 0.0117 - val_mae: 0.0117 - val_mse: 2.8445e-04\n",
            "Split: 2 Epochs: 29/30\n",
            "\u001b[1m358/358\u001b[0m \u001b[32m━━━━━━━━━━━━━━━━━━━━\u001b[0m\u001b[37m\u001b[0m \u001b[1m3s\u001b[0m 8ms/step - loss: 0.0129 - mae: 0.0129 - mse: 3.6464e-04 - val_loss: 0.0127 - val_mae: 0.0127 - val_mse: 2.9651e-04\n",
            "Test loss: 0.012497921474277973\n",
            "Test MSE: 0.0002938366960734129\n",
            "Test MAE: 0.012497921474277973\n"
          ]
        },
        {
          "output_type": "display_data",
          "data": {
            "text/plain": [
              "<Figure size 1500x800 with 0 Axes>"
            ]
          },
          "metadata": {}
        },
        {
          "output_type": "display_data",
          "data": {
            "text/plain": [
              "<Figure size 640x480 with 1 Axes>"
            ],
            "image/png": "[encoded data removed]"
          },
          "metadata": {}
        },
        {
          "output_type": "stream",
          "name": "stdout",
          "text": [
            "\u001b[1m131/131\u001b[0m \u001b[32m━━━━━━━━━━━━━━━━━━━━\u001b[0m\u001b[37m\u001b[0m \u001b[1m1s\u001b[0m 3ms/step\n",
            "Test RMSE: 0.05332115060502094\n",
            "Test R^2 score: 0.9799234583885261\n",
            "Test MAPE: 3.7105%\n",
            "Test Accuracy (±10% tolerance): 94.6923%\n"
          ]
        }
      ],
      "source": [
        "### Create supervised learning\n",
        "\n",
        "\n",
        "df['future'] = df[\"Global_Active_Power\"].shift(-FUTURE_PERIOD_PREDICT)\n",
        "df.dropna(inplace=True)\n",
        "\n",
        "print(df[['Global_Active_Power','future']].head(10))\n",
        "\n",
        "\n",
        "##### cross validation for time series..... ##################################################################################################################\n",
        "\n",
        "count = 0\n",
        "\n",
        "#### Evaluation metrics.....\n",
        "evaluate_loss = []\n",
        "evaluate_mse = []\n",
        "evaluate_mlog = []\n",
        "evaluate_rmse = []\n",
        "evaluate_r2 = []\n",
        "evaluate_mape = []\n",
        "evaluate_accuracy = []\n",
        "\n",
        "val_loss = []\n",
        "loss = []\n",
        "\n",
        "\n",
        "tscv = TimeSeriesSplit(n_splits=3)\n",
        "for train_index, test_index in tscv.split(df):\n",
        "\n",
        "  if (count >= 2 ):\n",
        "\n",
        "    df2 = df.copy()\n",
        "\n",
        "    print(f'df:{df2[:len(train_index)].shape}  test_df:{df2[len(train_index):len(train_index)+len(test_index)].shape}')\n",
        "\n",
        "    test_df = df2[len(train_index):len(train_index)+len(test_index)]\n",
        "    df2 = df2[:len(train_index)]\n",
        "    valid_df, df2 = split_data(df2, 0.1)\n",
        "\n",
        "    print(f'df_shape{df2.shape}')\n",
        "    print(f'test_shape{test_df.shape}')\n",
        "    print(f'Valid_shape{valid_df.shape}')\n",
        "\n",
        "    df2.dropna(inplace=True)\n",
        "    valid_df.dropna(inplace=True)\n",
        "    test_df.dropna(inplace=True)\n",
        "\n",
        "  #### scale our data\n",
        "\n",
        "    scaler = MinMaxScaler(feature_range=(0, 1))\n",
        "\n",
        "    cols = [col for col in df.columns if col not in ['time']]\n",
        "\n",
        "    df2[cols] = scaler.fit_transform(df2[cols])\n",
        "    df2.dropna(inplace=True)\n",
        "\n",
        "    test_df[cols] = scaler.transform(test_df[cols])\n",
        "    test_df.dropna(inplace=True)\n",
        "\n",
        "    valid_df[cols] = scaler.transform(valid_df[cols])\n",
        "    valid_df.dropna(inplace=True)\n",
        "\n",
        "\n",
        "    train_x, train_y = preprocess_df(df2, shuffle=True)\n",
        "    valid_x, valid_y = preprocess_df(valid_df, shuffle=False)\n",
        "    test_x, test_y = preprocess_df(test_df, shuffle=False)\n",
        "\n",
        "    train_len = train_x.shape[0]\n",
        "    valid_len = valid_x.shape[0]\n",
        "    test_len = test_x.shape[0]\n",
        "    print(f'train_len before:{train_len} test_len:{test_len}')\n",
        "\n",
        "    train_len = train_length(train_len, BATCH_SIZE)\n",
        "    valid_len = train_length(valid_len, BATCH_SIZE)\n",
        "    test_len = train_length(test_len, BATCH_SIZE)\n",
        "\n",
        "    print(f'train_len after modulo:{train_len} test_len:{test_len}')\n",
        "\n",
        "    train_x = train_x[:train_len]\n",
        "    train_y = train_y[:train_len]\n",
        "\n",
        "    valid_x = valid_x[:valid_len]\n",
        "    valid_y = valid_y[:valid_len]\n",
        "\n",
        "    test_x = test_x[:test_len]\n",
        "    test_y = test_y[:test_len]\n",
        "\n",
        "    print(f'Train_x shape:{train_x.shape} Train_y shape:{train_y.shape}')\n",
        "    print(f'valid_x shape:{valid_x.shape} valid_y shape:{valid_y.shape}')\n",
        "    print(f'Test_x shape:{test_x.shape} Test_y shape:{test_y.shape} \\n')\n",
        "\n",
        "\n",
        "    \"\"\".....The model.....\"\"\"\n",
        "\n",
        "    model = get_model()\n",
        "    model.summary()\n",
        "\n",
        "    \"\"\".....train model.....\"\"\"\n",
        "\n",
        "    # Stateful LSTM\n",
        "\n",
        "    for i in range(EPOCHS):\n",
        "      print(f'Split: {count} Epochs: {i}/{EPOCHS}')\n",
        "\n",
        "      history = model.fit(\n",
        "        train_x, train_y,\n",
        "        batch_size = BATCH_SIZE,\n",
        "        epochs = 1,\n",
        "        validation_data = (valid_x, valid_y),\n",
        "      )\n",
        "\n",
        "\n",
        "      val_loss.append(history.history['val_loss'])\n",
        "      loss.append(history.history['loss'])\n",
        "\n",
        "      # Reset states for all LSTM layers\n",
        "      for layer in model.layers:\n",
        "          if isinstance(layer, LSTM):\n",
        "              layer.reset_states()\n",
        "\n",
        "\n",
        "    \"\"\" Evaluate model.......  \"\"\"\n",
        "\n",
        "    # Reset states before evaluation\n",
        "    for layer in model.layers:\n",
        "        if isinstance(layer, LSTM):\n",
        "            layer.reset_states()\n",
        "\n",
        "    score = model.evaluate(test_x, test_y,\n",
        "                         batch_size=BATCH_SIZE,\n",
        "                         verbose=0)\n",
        "    print('Test loss:', score[0])\n",
        "    print('Test MSE:', score[1])\n",
        "    print('Test MAE:', score[2])\n",
        "\n",
        "    evaluate_loss.append(score[0])\n",
        "    evaluate_mse.append(score[1])\n",
        "\n",
        "    ######## plot loss & val_loss\n",
        "\n",
        "    plot_history(loss, val_loss, EPOCHS)\n",
        "\n",
        "\n",
        "    #### make & evaluate our prediction\n",
        "\n",
        "    # Reset states before prediction\n",
        "    for layer in model.layers:\n",
        "        if isinstance(layer, LSTM):\n",
        "            layer.reset_states()\n",
        "\n",
        "    yhat = model.predict(test_x, batch_size=BATCH_SIZE)\n",
        "\n",
        "    ###### invert scaling for forecast\n",
        "    # Create a dummy array with same shape as original data\n",
        "    predict = np.zeros(shape=(len(yhat), len(df.columns)))\n",
        "    # Put our predictions in the Global_active_power column position\n",
        "    predict[:, df.columns.get_loc('Global_Active_Power')] = yhat[:, 0]\n",
        "\n",
        "    inv_yhat = scaler.inverse_transform(predict)\n",
        "    # Get back just the Global_active_power predictions\n",
        "    inv_yhat = inv_yhat[:, df.columns.get_loc('Global_Active_Power')]\n",
        "\n",
        "    ###### invert scaling for actual\n",
        "    actual = np.zeros(shape=(len(test_y), len(df.columns)))\n",
        "    actual[:, df.columns.get_loc('Global_Active_Power')] = test_y\n",
        "\n",
        "    inv_y = scaler.inverse_transform(actual)\n",
        "    inv_y = inv_y[:, df.columns.get_loc('Global_Active_Power')]\n",
        "\n",
        "    ##### calculate RMSE\n",
        "    rmse = np.sqrt(mean_squared_error(inv_y, inv_yhat))\n",
        "    print(f'Test RMSE: {rmse}')\n",
        "    evaluate_rmse.append(rmse)\n",
        "\n",
        "    ##### calculate R^2 metric\n",
        "    r2 = r2_score(inv_y, inv_yhat)\n",
        "    print(f'Test R^2 score: {r2}')\n",
        "    evaluate_r2.append(r2)\n",
        "\n",
        "    ##### calculate MAPE\n",
        "    mape = np.mean(np.abs((inv_y - inv_yhat) / inv_y)) * 100\n",
        "    print(f'Test MAPE: {mape:.4f}%')\n",
        "    evaluate_mape.append(mape)\n",
        "\n",
        "    ##### calculate regression-based accuracy\n",
        "    accuracy = regression_accuracy(inv_y, inv_yhat, tolerance=0.1)\n",
        "    print(f'Test Accuracy (±10% tolerance): {accuracy:.4f}%')\n",
        "    evaluate_accuracy.append(accuracy)\n",
        "\n",
        "  count += 1\n"
      ]
    },
    {
      "cell_type": "markdown",
      "source": [
        "# 3. Model Evaluation"
      ],
      "metadata": {
        "id": "4Ij9AcdwNP2g"
      }
    },
    {
      "cell_type": "markdown",
      "source": [
        "This section presents the aggregated results of the model’s predictive performance. By averaging key metrics across all validation splits, it provides a concise summary of how accurately the LSTM model forecasts household power consumption on unseen data."
      ],
      "metadata": {
        "id": "w5DKvf2eNklR"
      }
    },
    {
      "cell_type": "code",
      "execution_count": null,
      "metadata": {
        "colab": {
          "base_uri": "https://localhost:8080/"
        },
        "id": "za-EhFXImtSz",
        "outputId": "88c9cb85-1a7e-4b75-ea44-d5f51d26cbb7"
      },
      "outputs": [
        {
          "output_type": "stream",
          "name": "stdout",
          "text": [
            "\n",
            "\n",
            "Avg Loss:0.03163500130176544\n",
            "Avg MSE:0.002162023214623332\n",
            "Avg RMSE:0.15985821995228636\n",
            "Avg R2:0.9138614625977883\n"
          ]
        }
      ],
      "source": [
        "avg_loss = np.average(evaluate_loss)\n",
        "avg_mse = np.average(evaluate_mse)\n",
        "avg_rmse = np.average(evaluate_rmse)\n",
        "avg_r2 = np.average(evaluate_r2)\n",
        "avg_mape = np.average(evaluate_mape)\n",
        "\n",
        "print('\\n')\n",
        "print(f'Avg Loss:{avg_loss}')\n",
        "print(f'Avg MSE:{avg_mse}')\n",
        "print(f'Avg RMSE:{avg_rmse}')\n",
        "print(f'Avg R2:{avg_r2}')"
      ]
    }
  ],
  "metadata": {
    "colab": {
      "provenance": [],
      "gpuType": "T4",
      "include_colab_link": true
    },
    "kernelspec": {
      "display_name": "Python 3",
      "name": "python3"
    },
    "language_info": {
      "name": "python"
    },
    "accelerator": "GPU"
  },
  "nbformat": 4,
  "nbformat_minor": 0
}