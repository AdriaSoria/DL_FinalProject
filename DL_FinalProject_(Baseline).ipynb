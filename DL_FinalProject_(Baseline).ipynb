{
  "cells": [
    {
      "cell_type": "markdown",
      "metadata": {
        "id": "view-in-github",
        "colab_type": "text"
      },
      "source": [
        "<a href=\"https://colab.research.google.com/github/AdriaSoria/DL_FinalProject/blob/main/DL_FinalProject_(Baseline).ipynb\" target=\"_parent\"><img src=\"https://colab.research.google.com/assets/colab-badge.svg\" alt=\"Open In Colab\"/></a>"
      ]
    },
    {
      "cell_type": "markdown",
      "metadata": {
        "id": "8q6vLeXmw2q4"
      },
      "source": [
        "# <font color=CC0000> **Deep Learning**\n",
        "## <font color=CC0000> **Final Project: Energy Consumption Prediction**\n",
        "\n",
        "**P103 - Team L**\n",
        "\n",
        "*   Adrià Soria - 251729\n",
        "*   Judit Viladecans - 251437\n",
        "*   Paula Ceprián - 252503"
      ]
    },
    {
      "cell_type": "markdown",
      "metadata": {
        "id": "x9RpHHwbwHtO"
      },
      "source": [
        "# 0. Introduction\n",
        "\n",
        "This implementation presents a deep learning solution for predicting household electricity consumption patterns using Long Short-Term Memory (LSTM) networks. The primary objective is to forecast future power consumption values based on historical usage data, helping to anticipate energy demands at the household level. By analyzing temporal sequences of power-related features including global active power, reactive power, voltage, and current intensity, the model learns to recognize and predict consumption patterns across different time periods. This predictive capability has practical applications in smart home energy management, helping households optimize their energy usage and potentially reduce costs.\n",
        "\n",
        "The focus here is to:\n",
        "\n",
        "- **Train and run** a predictive model using  a sequence-to-sequence architecture with LSTM neural networks to forecast household electricity consumption.\n",
        "- **Iteratively enhance the basic LSTM architecture** through various optimization strategies to maximize prediction accuracy.\n",
        "- **Exploration of advanced features in the model design**, such as stateful LSTM layers and time series cross-validation, to improve upon the basic implementation and achieve more robust predictions."
      ]
    },
    {
      "cell_type": "markdown",
      "source": [
        "# 1. Model Design"
      ],
      "metadata": {
        "id": "yVCdvUFuLDbq"
      }
    },
    {
      "cell_type": "markdown",
      "source": [
        "### 1.1. Import Basic Libraries and Dataset\n",
        "In this section, we import the essential libraries for the model architecture design. The `clean_dataset.csv` dataset is loaded to preprocess and start the model training."
      ],
      "metadata": {
        "id": "wC3l7FAMLMh8"
      }
    },
    {
      "cell_type": "code",
      "execution_count": null,
      "metadata": {
        "id": "rMAvdNO4C8Kr"
      },
      "outputs": [],
      "source": [
        "import numpy as np\n",
        "import matplotlib.pyplot as plt\n",
        "import pandas as pd\n",
        "import time\n",
        "import random\n",
        "from math import sqrt\n",
        "from collections import deque\n",
        "\n",
        "from sklearn import preprocessing\n",
        "from sklearn.preprocessing import MinMaxScaler\n",
        "from sklearn import metrics\n",
        "from sklearn.metrics import mean_squared_error, r2_score, mean_squared_log_error\n",
        "from sklearn.model_selection import TimeSeriesSplit\n",
        "\n",
        "\n",
        "import tensorflow as tf\n",
        "from tensorflow import keras\n",
        "\n",
        "from tensorflow.keras.models import Sequential\n",
        "from tensorflow.keras.layers import Dense, Dropout, LSTM, Activation, Bidirectional, Input, LeakyReLU\n",
        "from tensorflow.keras.layers import Flatten, TimeDistributed\n",
        "\n",
        "from tensorflow.keras.callbacks import TensorBoard, ModelCheckpoint, EarlyStopping\n",
        "\n",
        "from google.colab import drive\n",
        "import os\n"
      ]
    },
    {
      "cell_type": "code",
      "execution_count": null,
      "metadata": {
        "colab": {
          "base_uri": "https://localhost:8080/"
        },
        "id": "0ppnj9oOm88D",
        "outputId": "f20ab798-46c2-4ceb-e027-1af0f5114797"
      },
      "outputs": [
        {
          "output_type": "stream",
          "name": "stdout",
          "text": [
            "Mounted at /content/drive\n"
          ]
        }
      ],
      "source": [
        "drive.mount('/content/drive')\n",
        "project_path = '/content/drive/Shareddrives/Deep Learning 2025/UPF_Deep_Learning_2025/Project/'\n",
        "\n",
        "os.chdir(project_path)"
      ]
    },
    {
      "cell_type": "code",
      "source": [
        "ls"
      ],
      "metadata": {
        "id": "L4Prh_csvk7p",
        "outputId": "d9928c9b-444e-4ebd-c7a0-5c62f3aa5c37",
        "colab": {
          "base_uri": "https://localhost:8080/"
        }
      },
      "execution_count": null,
      "outputs": [
        {
          "output_type": "stream",
          "name": "stdout",
          "text": [
            "\u001b[0m\u001b[01;34msample_data\u001b[0m/\n"
          ]
        }
      ]
    },
    {
      "cell_type": "code",
      "execution_count": null,
      "metadata": {
        "id": "4P8XgcMcFQUt",
        "colab": {
          "base_uri": "https://localhost:8080/"
        },
        "outputId": "0cbb3578-1efd-4a75-b20e-c4b09c064051"
      },
      "outputs": [
        {
          "output_type": "stream",
          "name": "stdout",
          "text": [
            "Initial data types:\n",
            "Datetime                  object\n",
            "Date                      object\n",
            "Time                      object\n",
            "Global Active Power      float64\n",
            "Global Reactive Power    float64\n",
            "Voltage                  float64\n",
            "Global Intensity         float64\n",
            "Sub Metering 1           float64\n",
            "Sub Metering 2           float64\n",
            "Sub Metering 3           float64\n",
            "Hour                       int64\n",
            "Year                       int64\n",
            "Year-Month                object\n",
            "Month                      int64\n",
            "Month-Day                 object\n",
            "dtype: object\n",
            "\n",
            "Final data types:\n",
            "Global_Active_Power      float64\n",
            "Global_Reactive_Power    float64\n",
            "Voltage                  float64\n",
            "Global_Intensity         float64\n",
            "dtype: object\n",
            "\n",
            "Final columns:\n",
            "['Global_Active_Power', 'Global_Reactive_Power', 'Voltage', 'Global_Intensity']\n",
            "\n",
            "Shape of dataset: (34168, 4)\n",
            "\n",
            "First few rows of processed data:\n",
            "                     Global_Active_Power  Global_Reactive_Power     Voltage  \\\n",
            "Datetime                                                                      \n",
            "2006-12-16 17:00:00             4.222889               0.229000  234.643889   \n",
            "2006-12-16 18:00:00             3.632200               0.080033  234.580167   \n",
            "2006-12-16 19:00:00             3.400233               0.085233  233.232500   \n",
            "2006-12-16 20:00:00             3.268567               0.075100  234.071500   \n",
            "2006-12-16 21:00:00             3.056467               0.076667  237.158667   \n",
            "\n",
            "                     Global_Intensity  \n",
            "Datetime                               \n",
            "2006-12-16 17:00:00         18.100000  \n",
            "2006-12-16 18:00:00         15.600000  \n",
            "2006-12-16 19:00:00         14.503333  \n",
            "2006-12-16 20:00:00         13.916667  \n",
            "2006-12-16 21:00:00         13.046667  \n",
            "\n",
            "Dataset after preprocessing:\n",
            "                     Global_Active_Power  Global_Reactive_Power     Voltage  \\\n",
            "Datetime                                                                      \n",
            "2006-12-16 17:00:00             4.222889               0.229000  234.643889   \n",
            "2006-12-16 18:00:00             3.632200               0.080033  234.580167   \n",
            "2006-12-16 19:00:00             3.400233               0.085233  233.232500   \n",
            "2006-12-16 20:00:00             3.268567               0.075100  234.071500   \n",
            "2006-12-16 21:00:00             3.056467               0.076667  237.158667   \n",
            "\n",
            "                     Global_Intensity  \n",
            "Datetime                               \n",
            "2006-12-16 17:00:00         18.100000  \n",
            "2006-12-16 18:00:00         15.600000  \n",
            "2006-12-16 19:00:00         14.503333  \n",
            "2006-12-16 20:00:00         13.916667  \n",
            "2006-12-16 21:00:00         13.046667  \n",
            "\n",
            "Columns after preprocessing:\n",
            "['Global_Active_Power', 'Global_Reactive_Power', 'Voltage', 'Global_Intensity']\n",
            "\n",
            "Shape of dataset: (34168, 4)\n"
          ]
        }
      ],
      "source": [
        "df = pd.read_csv('clean_dataset.csv', sep=',', low_memory=False, encoding='utf-8')\n",
        "\n",
        "# Print initial data types\n",
        "print(\"Initial data types:\")\n",
        "print(df.dtypes)\n",
        "\n",
        "# 1. Handle datetime-related columns\n",
        "df['Datetime'] = pd.to_datetime(df['Datetime'])  # Convert to datetime\n",
        "df.set_index('Datetime', inplace=True)  # Set as index\n",
        "\n",
        "# 2. Drop redundant time-related columns since we have datetime index\n",
        "time_columns = ['Date', 'Time', 'Hour', 'Year', 'Year-Month', 'Month', 'Month-Day']\n",
        "df = df.drop(time_columns, axis=1)\n",
        "\n",
        "# 3. Drop sub-metering columns\n",
        "sub_metering_columns = ['Sub Metering 1', 'Sub Metering 2', 'Sub Metering 3']\n",
        "df = df.drop(sub_metering_columns, axis=1)\n",
        "\n",
        "# 4. Clean column names (remove spaces)\n",
        "df.columns = df.columns.str.replace(' ', '_')\n",
        "\n",
        "# 5. Ensure numeric columns are float\n",
        "numeric_columns = ['Global_Active_Power', 'Global_Reactive_Power', 'Voltage', 'Global_Intensity']\n",
        "for col in numeric_columns:\n",
        "    df[col] = df[col].astype('float64')\n",
        "\n",
        "# 6. Sort by datetime index and handle missing values\n",
        "df.sort_index(inplace=True)\n",
        "df.dropna(inplace=True)\n",
        "\n",
        "# 7. Resample to hourly data\n",
        "df = df.resample('1h').mean()\n",
        "df.dropna(inplace=True)\n",
        "\n",
        "# Print final information about the dataset\n",
        "print(\"\\nFinal data types:\")\n",
        "print(df.dtypes)\n",
        "print(\"\\nFinal columns:\")\n",
        "print(df.columns.tolist())\n",
        "print(\"\\nShape of dataset:\", df.shape)\n",
        "print(\"\\nFirst few rows of processed data:\")\n",
        "print(df.head())\n",
        "\n",
        "# 1sample/1hour for sequences\n",
        "df = df.resample('1h').mean()\n",
        "df.dropna(inplace=True)\n",
        "\n",
        "print(\"\\nDataset after preprocessing:\")\n",
        "print(df.head())\n",
        "print(\"\\nColumns after preprocessing:\")\n",
        "print(df.columns.tolist())\n",
        "print(\"\\nShape of dataset:\", df.shape)"
      ]
    },
    {
      "cell_type": "markdown",
      "source": [
        "The dataset captures hourly household power consumption through four electrical parameters (Global Active Power, Global Reactive Power, Voltage, and Global Intensity) across 34,168 measurements starting from December 2006. The data is structured as a time series with measurements taken every hour, starting from December 16, 2006, at 17:00. These four parameters provide a comprehensive view of the household's electrical consumption patterns, which will be used by our LSTM model to learn and predict future consumption values."
      ],
      "metadata": {
        "id": "1ripY1xNKJiq"
      }
    },
    {
      "cell_type": "code",
      "source": [
        "#### Data Preprocessing\n",
        "\n",
        "#### Moving Average filtering... smoothing our data\n",
        "\n",
        "######## Smothing our data at first\n",
        "df = df.ewm(alpha=0.2).mean()\n",
        "df.dropna(inplace=True)\n",
        "\n",
        "# #Dropping the outlier rows with standard deviation\n",
        "factor = 3\n",
        "upper_lim = df['Global_Active_Power'].mean () + df['Global_Active_Power'].std () * factor\n",
        "lower_lim = df['Global_Active_Power'].mean () - df['Global_Active_Power'].std () * factor\n",
        "df = df[(df['Global_Active_Power'] < upper_lim) & (df['Global_Active_Power'] > lower_lim)]\n",
        "\n",
        "####### fill values summer of 2008\n",
        "\n",
        "times = pd.to_datetime(df.index)\n",
        "times = times.strftime(\"%Y-%m-%d\").tolist()\n",
        "temp = []\n",
        "for index,value in enumerate(times):\n",
        "  if(value > '2007-08-08' and value <'2007-09-01'):\n",
        "\n",
        "    #temp.append(float(df['Global_active_power'][index]))\n",
        "    temp.append(float(df.loc[df.index[index], 'Global_Active_Power']))\n",
        "\n",
        "temp = pd.Series(temp)\n",
        "temp = temp.ewm(alpha=0.15).mean()\n",
        "temp = temp.values\n",
        "\n",
        "k=0\n",
        "for index,value in enumerate(times):\n",
        "  if(value > '2008-08-08' and value <'2008-09-01'):\n",
        "    #df['Global_active_power'].iloc[index] = temp[k]\n",
        "    df.loc[df.index[index], 'Global_Active_Power'] = temp[k]\n",
        "    k += 1\n",
        "\n",
        "print(f'df_shape arxika: {df.shape}\\n')"
      ],
      "metadata": {
        "colab": {
          "base_uri": "https://localhost:8080/"
        },
        "id": "K_0FcjHyKgoD",
        "outputId": "88933f86-8d8a-438e-d163-f08710fb52e3"
      },
      "execution_count": null,
      "outputs": [
        {
          "output_type": "stream",
          "name": "stdout",
          "text": [
            "df_shape arxika: (33763, 4)\n",
            "\n"
          ]
        }
      ]
    },
    {
      "cell_type": "markdown",
      "source": [
        "We processes this time series data through several crucial steps: it first organizes the readings chronologically and standardizes the data format, then applies an exponential moving average (alpha=0.2) to smooth out short-term fluctuations in the measurements. To ensure data quality, it removes statistical outliers using a three-standard-deviation threshold and handles a specific data anomaly in the summer period of 2008 by filling it with smoothed values from the corresponding period in 2007."
      ],
      "metadata": {
        "id": "W9jpIe_RKrXl"
      }
    },
    {
      "cell_type": "markdown",
      "metadata": {
        "id": "Z36FrtJbDihu"
      },
      "source": [
        "### 1.2 LSTM Definition"
      ]
    },
    {
      "cell_type": "markdown",
      "source": [
        "This section presents the core functions and neural network architecture used for forecasting household power consumption. The code defines key parameters for sequence length, prediction horizon, and model training, and implements utility functions for error calculation, data preprocessing, and time series splitting. At its core, the section introduces a deep learning model based on a stateful LSTM (Long Short-Term Memory) architecture, designed to capture temporal dependencies in sequential power usage data. The model is structured to process sequences of historical measurements and predict future consumption, forming the foundation for the project's predictive analytics."
      ],
      "metadata": {
        "id": "PtovK5YlMFiY"
      }
    },
    {
      "cell_type": "code",
      "execution_count": null,
      "metadata": {
        "id": "g2pHs-qZC0FP"
      },
      "outputs": [],
      "source": [
        "def mean_absolute_percentage_error(y_true, y_pred):\n",
        "#     y_true, y_pred = check_arrays(y_true, y_pred)\n",
        "\n",
        "    ## Note: does not handle mix 1d representation\n",
        "    #if _is_1d(y_true):\n",
        "    #    y_true, y_pred = _check_1d_array(y_true, y_pred)\n",
        "\n",
        "    return np.mean(np.abs((y_true - y_pred) / y_true)) * 100\n",
        "\n",
        "\n",
        "def theil_u(yhat, y):\n",
        "\n",
        "  len_yhat = len(yhat)\n",
        "  sum1 = 0\n",
        "  sum2 = 0\n",
        "\n",
        "  for i in range(len_yhat-1):\n",
        "\n",
        "    sum1 += ( (yhat[i+1] - y[i+1]) / y[i] )**2\n",
        "    sum2 += ( (y[i+1] - y[i]) / y[i] )**2\n",
        "\n",
        "  return sqrt(sum1/sum2)\n",
        "\n",
        "\n",
        "def plot_history(loss, val_loss, epochs):\n",
        "\n",
        "  plt.figure(figsize=[15,8])\n",
        "  plt.figure()\n",
        "  plt.xlabel('Epoch')\n",
        "  plt.ylabel('Mean Square Error [$MPG^2$]')\n",
        "  plt.plot(range(epochs), loss, label='Train Error')\n",
        "  plt.plot(range(epochs), val_loss, label = 'Val Error')\n",
        "  plt.ylim([0.0,0.15])\n",
        "  plt.legend()\n",
        "  plt.show()\n",
        "\n",
        "\n",
        "def preprocess_df(df, shuffle=False):\n",
        "\n",
        "    sequential_data = []                    # this is a list that will CONTAIN the sequences\n",
        "    prev_days = deque(maxlen = SEQ_LEN)     # These will be our actual sequences.\n",
        "                                            # They are made with deque, which keeps the maximum length\n",
        "                                            # by popping out older values as new ones come in\n",
        "    for i in df.values:                                             # iterate over the values\n",
        "        prev_days.append([n for n in i[:-1]])                       # store all but the label\n",
        "        if len(prev_days) == SEQ_LEN:                               # make sure we have 30 sequences!\n",
        "            sequential_data.append([np.array(prev_days), i[-1]])    # append those bad boys!\n",
        "\n",
        "\n",
        "    if(shuffle == True):\n",
        "      random.shuffle(sequential_data)                                 # shuffle for good measure.\n",
        "\n",
        "\n",
        "    X = []\n",
        "    y = []\n",
        "\n",
        "    for seq, target in sequential_data:  # going over our new sequential data\n",
        "        X.append(seq)                    # X is the sequences (features)\n",
        "        y.append(target)                 # y is the targets/labels\n",
        "\n",
        "    return np.array(X), np.array(y)  # return X and y...and make X a numpy array!\n",
        "\n",
        "\n",
        "def train_length(length, batch_size):\n",
        "\n",
        "  length_values = []\n",
        "  for x in range( int(length)-100, int(length) ):\n",
        "    modulo = x % batch_size\n",
        "    if(modulo == 0 ):\n",
        "      length_values.append(x)\n",
        "\n",
        "  return ( max(length_values) )\n",
        "\n",
        "\n",
        "def split_data(df, percent):\n",
        "\n",
        "  length = len(df)\n",
        "  test_index = int(length*percent)\n",
        "  train_index = length - test_index\n",
        "  test_df = df[train_index:]\n",
        "  df = df[:train_index]\n",
        "\n",
        "  return test_df, df\n",
        "\n",
        "\n",
        "def regression_accuracy(y_true, y_pred, tolerance):\n",
        "    \"\"\"\n",
        "    Calcula la \"accuracy\" de un modelo de regresión como el % de predicciones\n",
        "    que caen dentro de un margen relativo de tolerancia\n",
        "    \"\"\"\n",
        "    y_true = np.array(y_true)\n",
        "    y_pred = np.array(y_pred)\n",
        "    within_tolerance = np.abs(y_true - y_pred) <= (tolerance * np.abs(y_true))\n",
        "    return np.mean(within_tolerance) * 100  # en porcentaje\n",
        "\n",
        "\n",
        "def get_model():\n",
        "    model = Sequential([\n",
        "        Input(shape=(train_x.shape[1], train_x.shape[2]), batch_size=BATCH_SIZE),\n",
        "\n",
        "        LSTM(36, stateful=True, return_sequences=True),\n",
        "        Activation('relu'),\n",
        "\n",
        "        LSTM(36, stateful=True, return_sequences=False),\n",
        "        Activation('relu'),\n",
        "\n",
        "        Dense(1)\n",
        "    ])\n",
        "\n",
        "    model.compile(\n",
        "        loss='mae',\n",
        "        optimizer='adam',\n",
        "        metrics=['mse', 'mae']\n",
        "    )\n",
        "\n",
        "    return model"
      ]
    },
    {
      "cell_type": "markdown",
      "source": [
        "# 2. Model Training"
      ],
      "metadata": {
        "id": "iPO_c0UNM340"
      }
    },
    {
      "cell_type": "markdown",
      "source": [
        "This section details the training procedure for the LSTM-based power consumption forecasting model. The code transforms the time series data into a supervised learning format, where the model learns to predict future power usage based on sequences of past measurements. It employs time series cross-validation to robustly assess model performance, splitting the data into training, validation, and test sets in a way that respects the temporal order of the data. During each split, the model is trained, validated, and evaluated using several performance metrics, with careful handling of data scaling and LSTM state management. This systematic approach ensures that the model is both well-trained and fairly evaluated on unseen data, providing reliable insights into its predictive capabilities."
      ],
      "metadata": {
        "id": "IFADfY4zM73G"
      }
    },
    {
      "cell_type": "code",
      "source": [
        "SEQ_LEN = 100                    # how long of a preceeding sequence to collect for RNN (in 1hour minutes)\n",
        "FUTURE_PERIOD_PREDICT = 6        # how far into the future are we trying to predict? (in minutes)\n",
        "EPOCHS = 30                      # how many passes through our data\n",
        "BATCH_SIZE = 64                  # how many batches? Try smaller batch if you're getting OOM (out of memory) errors."
      ],
      "metadata": {
        "id": "BTjMA-GWMlNN"
      },
      "execution_count": null,
      "outputs": []
    },
    {
      "cell_type": "code",
      "execution_count": null,
      "metadata": {
        "colab": {
          "base_uri": "https://localhost:8080/",
          "height": 1000
        },
        "id": "9RYXomjV-NvA",
        "outputId": "5a303b19-4d55-421a-8ed4-1f3fe5bcfe2b"
      },
      "outputs": [
        {
          "output_type": "stream",
          "name": "stdout",
          "text": [
            "                     Global_Active_Power    future\n",
            "Datetime                                          \n",
            "2006-12-17 00:00:00             2.594362  1.952293\n",
            "2006-12-17 02:00:00             2.504052  1.939590\n",
            "2006-12-17 03:00:00             2.319859  2.064293\n",
            "2006-12-17 04:00:00             2.297505  2.382955\n",
            "2006-12-17 05:00:00             2.233851  2.400822\n",
            "2006-12-17 06:00:00             2.039179  2.302699\n",
            "2006-12-17 07:00:00             1.952293  2.173118\n",
            "2006-12-17 08:00:00             1.939590  2.156901\n",
            "2006-12-17 09:00:00             2.064293  2.323585\n",
            "2006-12-17 10:00:00             2.382955  2.525026\n",
            "Yooooooo:(33756, 5)\n",
            "df:(25317, 5)  test_df:(8439, 5)\n",
            "df_shape(22786, 5)\n",
            "test_shape(8439, 5)\n",
            "Valid_shape(2531, 5)\n",
            "train_len before:22687 test_len:8340\n",
            "train_len after modulo:22656 test_len:8320\n",
            "Train_x shape:(22656, 100, 4) Train_y shape:(22656,)\n",
            "valid_x shape:(2368, 100, 4) valid_y shape:(2368,)\n",
            "Test_x shape:(8320, 100, 4) Test_y shape:(8320,) \n",
            "\n"
          ]
        },
        {
          "output_type": "display_data",
          "data": {
            "text/plain": [
              "\u001b[1mModel: \"sequential_2\"\u001b[0m\n"
            ],
            "text/html": [
              "<pre style=\"white-space:pre;overflow-x:auto;line-height:normal;font-family:Menlo,'DejaVu Sans Mono',consolas,'Courier New',monospace\"><span style=\"font-weight: bold\">Model: \"sequential_2\"</span>\n",
              "</pre>\n"
            ]
          },
          "metadata": {}
        },
        {
          "output_type": "display_data",
          "data": {
            "text/plain": [
              "┏━━━━━━━━━━━━━━━━━━━━━━━━━━━━━━━━━┳━━━━━━━━━━━━━━━━━━━━━━━━┳━━━━━━━━━━━━━━━┓\n",
              "┃\u001b[1m \u001b[0m\u001b[1mLayer (type)                   \u001b[0m\u001b[1m \u001b[0m┃\u001b[1m \u001b[0m\u001b[1mOutput Shape          \u001b[0m\u001b[1m \u001b[0m┃\u001b[1m \u001b[0m\u001b[1m      Param #\u001b[0m\u001b[1m \u001b[0m┃\n",
              "┡━━━━━━━━━━━━━━━━━━━━━━━━━━━━━━━━━╇━━━━━━━━━━━━━━━━━━━━━━━━╇━━━━━━━━━━━━━━━┩\n",
              "│ lstm_4 (\u001b[38;5;33mLSTM\u001b[0m)                   │ (\u001b[38;5;34m64\u001b[0m, \u001b[38;5;34m100\u001b[0m, \u001b[38;5;34m36\u001b[0m)          │         \u001b[38;5;34m5,904\u001b[0m │\n",
              "├─────────────────────────────────┼────────────────────────┼───────────────┤\n",
              "│ activation_4 (\u001b[38;5;33mActivation\u001b[0m)       │ (\u001b[38;5;34m64\u001b[0m, \u001b[38;5;34m100\u001b[0m, \u001b[38;5;34m36\u001b[0m)          │             \u001b[38;5;34m0\u001b[0m │\n",
              "├─────────────────────────────────┼────────────────────────┼───────────────┤\n",
              "│ lstm_5 (\u001b[38;5;33mLSTM\u001b[0m)                   │ (\u001b[38;5;34m64\u001b[0m, \u001b[38;5;34m36\u001b[0m)               │        \u001b[38;5;34m10,512\u001b[0m │\n",
              "├─────────────────────────────────┼────────────────────────┼───────────────┤\n",
              "│ activation_5 (\u001b[38;5;33mActivation\u001b[0m)       │ (\u001b[38;5;34m64\u001b[0m, \u001b[38;5;34m36\u001b[0m)               │             \u001b[38;5;34m0\u001b[0m │\n",
              "├─────────────────────────────────┼────────────────────────┼───────────────┤\n",
              "│ dense_2 (\u001b[38;5;33mDense\u001b[0m)                 │ (\u001b[38;5;34m64\u001b[0m, \u001b[38;5;34m1\u001b[0m)                │            \u001b[38;5;34m37\u001b[0m │\n",
              "└─────────────────────────────────┴────────────────────────┴───────────────┘\n"
            ],
            "text/html": [
              "<pre style=\"white-space:pre;overflow-x:auto;line-height:normal;font-family:Menlo,'DejaVu Sans Mono',consolas,'Courier New',monospace\">┏━━━━━━━━━━━━━━━━━━━━━━━━━━━━━━━━━┳━━━━━━━━━━━━━━━━━━━━━━━━┳━━━━━━━━━━━━━━━┓\n",
              "┃<span style=\"font-weight: bold\"> Layer (type)                    </span>┃<span style=\"font-weight: bold\"> Output Shape           </span>┃<span style=\"font-weight: bold\">       Param # </span>┃\n",
              "┡━━━━━━━━━━━━━━━━━━━━━━━━━━━━━━━━━╇━━━━━━━━━━━━━━━━━━━━━━━━╇━━━━━━━━━━━━━━━┩\n",
              "│ lstm_4 (<span style=\"color: #0087ff; text-decoration-color: #0087ff\">LSTM</span>)                   │ (<span style=\"color: #00af00; text-decoration-color: #00af00\">64</span>, <span style=\"color: #00af00; text-decoration-color: #00af00\">100</span>, <span style=\"color: #00af00; text-decoration-color: #00af00\">36</span>)          │         <span style=\"color: #00af00; text-decoration-color: #00af00\">5,904</span> │\n",
              "├─────────────────────────────────┼────────────────────────┼───────────────┤\n",
              "│ activation_4 (<span style=\"color: #0087ff; text-decoration-color: #0087ff\">Activation</span>)       │ (<span style=\"color: #00af00; text-decoration-color: #00af00\">64</span>, <span style=\"color: #00af00; text-decoration-color: #00af00\">100</span>, <span style=\"color: #00af00; text-decoration-color: #00af00\">36</span>)          │             <span style=\"color: #00af00; text-decoration-color: #00af00\">0</span> │\n",
              "├─────────────────────────────────┼────────────────────────┼───────────────┤\n",
              "│ lstm_5 (<span style=\"color: #0087ff; text-decoration-color: #0087ff\">LSTM</span>)                   │ (<span style=\"color: #00af00; text-decoration-color: #00af00\">64</span>, <span style=\"color: #00af00; text-decoration-color: #00af00\">36</span>)               │        <span style=\"color: #00af00; text-decoration-color: #00af00\">10,512</span> │\n",
              "├─────────────────────────────────┼────────────────────────┼───────────────┤\n",
              "│ activation_5 (<span style=\"color: #0087ff; text-decoration-color: #0087ff\">Activation</span>)       │ (<span style=\"color: #00af00; text-decoration-color: #00af00\">64</span>, <span style=\"color: #00af00; text-decoration-color: #00af00\">36</span>)               │             <span style=\"color: #00af00; text-decoration-color: #00af00\">0</span> │\n",
              "├─────────────────────────────────┼────────────────────────┼───────────────┤\n",
              "│ dense_2 (<span style=\"color: #0087ff; text-decoration-color: #0087ff\">Dense</span>)                 │ (<span style=\"color: #00af00; text-decoration-color: #00af00\">64</span>, <span style=\"color: #00af00; text-decoration-color: #00af00\">1</span>)                │            <span style=\"color: #00af00; text-decoration-color: #00af00\">37</span> │\n",
              "└─────────────────────────────────┴────────────────────────┴───────────────┘\n",
              "</pre>\n"
            ]
          },
          "metadata": {}
        },
        {
          "output_type": "display_data",
          "data": {
            "text/plain": [
              "\u001b[1m Total params: \u001b[0m\u001b[38;5;34m16,453\u001b[0m (64.27 KB)\n"
            ],
            "text/html": [
              "<pre style=\"white-space:pre;overflow-x:auto;line-height:normal;font-family:Menlo,'DejaVu Sans Mono',consolas,'Courier New',monospace\"><span style=\"font-weight: bold\"> Total params: </span><span style=\"color: #00af00; text-decoration-color: #00af00\">16,453</span> (64.27 KB)\n",
              "</pre>\n"
            ]
          },
          "metadata": {}
        },
        {
          "output_type": "display_data",
          "data": {
            "text/plain": [
              "\u001b[1m Trainable params: \u001b[0m\u001b[38;5;34m16,453\u001b[0m (64.27 KB)\n"
            ],
            "text/html": [
              "<pre style=\"white-space:pre;overflow-x:auto;line-height:normal;font-family:Menlo,'DejaVu Sans Mono',consolas,'Courier New',monospace\"><span style=\"font-weight: bold\"> Trainable params: </span><span style=\"color: #00af00; text-decoration-color: #00af00\">16,453</span> (64.27 KB)\n",
              "</pre>\n"
            ]
          },
          "metadata": {}
        },
        {
          "output_type": "display_data",
          "data": {
            "text/plain": [
              "\u001b[1m Non-trainable params: \u001b[0m\u001b[38;5;34m0\u001b[0m (0.00 B)\n"
            ],
            "text/html": [
              "<pre style=\"white-space:pre;overflow-x:auto;line-height:normal;font-family:Menlo,'DejaVu Sans Mono',consolas,'Courier New',monospace\"><span style=\"font-weight: bold\"> Non-trainable params: </span><span style=\"color: #00af00; text-decoration-color: #00af00\">0</span> (0.00 B)\n",
              "</pre>\n"
            ]
          },
          "metadata": {}
        },
        {
          "output_type": "stream",
          "name": "stdout",
          "text": [
            "Split: 2 Epochs: 0/30\n",
            "\u001b[1m354/354\u001b[0m \u001b[32m━━━━━━━━━━━━━━━━━━━━\u001b[0m\u001b[37m\u001b[0m \u001b[1m7s\u001b[0m 15ms/step - loss: 0.1539 - mae: 0.1539 - mse: 0.0422 - val_loss: 0.1267 - val_mae: 0.1267 - val_mse: 0.0289\n",
            "Split: 2 Epochs: 1/30\n",
            "\u001b[1m354/354\u001b[0m \u001b[32m━━━━━━━━━━━━━━━━━━━━\u001b[0m\u001b[37m\u001b[0m \u001b[1m4s\u001b[0m 12ms/step - loss: 0.1305 - mae: 0.1305 - mse: 0.0297 - val_loss: 0.1107 - val_mae: 0.1107 - val_mse: 0.0216\n",
            "Split: 2 Epochs: 2/30\n",
            "\u001b[1m354/354\u001b[0m \u001b[32m━━━━━━━━━━━━━━━━━━━━\u001b[0m\u001b[37m\u001b[0m \u001b[1m4s\u001b[0m 11ms/step - loss: 0.1200 - mae: 0.1200 - mse: 0.0261 - val_loss: 0.1044 - val_mae: 0.1044 - val_mse: 0.0201\n",
            "Split: 2 Epochs: 3/30\n",
            "\u001b[1m354/354\u001b[0m \u001b[32m━━━━━━━━━━━━━━━━━━━━\u001b[0m\u001b[37m\u001b[0m \u001b[1m5s\u001b[0m 14ms/step - loss: 0.1134 - mae: 0.1134 - mse: 0.0239 - val_loss: 0.1026 - val_mae: 0.1026 - val_mse: 0.0203\n",
            "Split: 2 Epochs: 4/30\n",
            "\u001b[1m354/354\u001b[0m \u001b[32m━━━━━━━━━━━━━━━━━━━━\u001b[0m\u001b[37m\u001b[0m \u001b[1m4s\u001b[0m 11ms/step - loss: 0.1107 - mae: 0.1107 - mse: 0.0230 - val_loss: 0.0993 - val_mae: 0.0993 - val_mse: 0.0177\n",
            "Split: 2 Epochs: 5/30\n",
            "\u001b[1m354/354\u001b[0m \u001b[32m━━━━━━━━━━━━━━━━━━━━\u001b[0m\u001b[37m\u001b[0m \u001b[1m4s\u001b[0m 11ms/step - loss: 0.1094 - mae: 0.1094 - mse: 0.0228 - val_loss: 0.0978 - val_mae: 0.0978 - val_mse: 0.0188\n",
            "Split: 2 Epochs: 6/30\n",
            "\u001b[1m354/354\u001b[0m \u001b[32m━━━━━━━━━━━━━━━━━━━━\u001b[0m\u001b[37m\u001b[0m \u001b[1m5s\u001b[0m 13ms/step - loss: 0.1068 - mae: 0.1068 - mse: 0.0222 - val_loss: 0.1006 - val_mae: 0.1006 - val_mse: 0.0200\n",
            "Split: 2 Epochs: 7/30\n",
            "\u001b[1m354/354\u001b[0m \u001b[32m━━━━━━━━━━━━━━━━━━━━\u001b[0m\u001b[37m\u001b[0m \u001b[1m4s\u001b[0m 11ms/step - loss: 0.1054 - mae: 0.1054 - mse: 0.0217 - val_loss: 0.0933 - val_mae: 0.0933 - val_mse: 0.0171\n",
            "Split: 2 Epochs: 8/30\n",
            "\u001b[1m354/354\u001b[0m \u001b[32m━━━━━━━━━━━━━━━━━━━━\u001b[0m\u001b[37m\u001b[0m \u001b[1m4s\u001b[0m 10ms/step - loss: 0.1031 - mae: 0.1031 - mse: 0.0208 - val_loss: 0.0905 - val_mae: 0.0905 - val_mse: 0.0164\n",
            "Split: 2 Epochs: 9/30\n",
            "\u001b[1m354/354\u001b[0m \u001b[32m━━━━━━━━━━━━━━━━━━━━\u001b[0m\u001b[37m\u001b[0m \u001b[1m5s\u001b[0m 13ms/step - loss: 0.1023 - mae: 0.1023 - mse: 0.0207 - val_loss: 0.0882 - val_mae: 0.0882 - val_mse: 0.0154\n",
            "Split: 2 Epochs: 10/30\n",
            "\u001b[1m354/354\u001b[0m \u001b[32m━━━━━━━━━━━━━━━━━━━━\u001b[0m\u001b[37m\u001b[0m \u001b[1m4s\u001b[0m 10ms/step - loss: 0.1008 - mae: 0.1008 - mse: 0.0200 - val_loss: 0.0909 - val_mae: 0.0909 - val_mse: 0.0163\n",
            "Split: 2 Epochs: 11/30\n",
            "\u001b[1m354/354\u001b[0m \u001b[32m━━━━━━━━━━━━━━━━━━━━\u001b[0m\u001b[37m\u001b[0m \u001b[1m4s\u001b[0m 10ms/step - loss: 0.1001 - mae: 0.1001 - mse: 0.0199 - val_loss: 0.0930 - val_mae: 0.0930 - val_mse: 0.0172\n",
            "Split: 2 Epochs: 12/30\n",
            "\u001b[1m354/354\u001b[0m \u001b[32m━━━━━━━━━━━━━━━━━━━━\u001b[0m\u001b[37m\u001b[0m \u001b[1m4s\u001b[0m 12ms/step - loss: 0.0980 - mae: 0.0980 - mse: 0.0191 - val_loss: 0.0942 - val_mae: 0.0942 - val_mse: 0.0175\n",
            "Split: 2 Epochs: 13/30\n",
            "\u001b[1m354/354\u001b[0m \u001b[32m━━━━━━━━━━━━━━━━━━━━\u001b[0m\u001b[37m\u001b[0m \u001b[1m4s\u001b[0m 10ms/step - loss: 0.0988 - mae: 0.0988 - mse: 0.0195 - val_loss: 0.0958 - val_mae: 0.0958 - val_mse: 0.0188\n",
            "Split: 2 Epochs: 14/30\n",
            "\u001b[1m354/354\u001b[0m \u001b[32m━━━━━━━━━━━━━━━━━━━━\u001b[0m\u001b[37m\u001b[0m \u001b[1m4s\u001b[0m 12ms/step - loss: 0.0969 - mae: 0.0969 - mse: 0.0190 - val_loss: 0.0937 - val_mae: 0.0937 - val_mse: 0.0179\n",
            "Split: 2 Epochs: 15/30\n",
            "\u001b[1m354/354\u001b[0m \u001b[32m━━━━━━━━━━━━━━━━━━━━\u001b[0m\u001b[37m\u001b[0m \u001b[1m4s\u001b[0m 10ms/step - loss: 0.0977 - mae: 0.0977 - mse: 0.0192 - val_loss: 0.0885 - val_mae: 0.0885 - val_mse: 0.0154\n",
            "Split: 2 Epochs: 16/30\n",
            "\u001b[1m354/354\u001b[0m \u001b[32m━━━━━━━━━━━━━━━━━━━━\u001b[0m\u001b[37m\u001b[0m \u001b[1m4s\u001b[0m 10ms/step - loss: 0.0965 - mae: 0.0965 - mse: 0.0188 - val_loss: 0.0891 - val_mae: 0.0891 - val_mse: 0.0157\n",
            "Split: 2 Epochs: 17/30\n",
            "\u001b[1m354/354\u001b[0m \u001b[32m━━━━━━━━━━━━━━━━━━━━\u001b[0m\u001b[37m\u001b[0m \u001b[1m4s\u001b[0m 12ms/step - loss: 0.0970 - mae: 0.0970 - mse: 0.0188 - val_loss: 0.0968 - val_mae: 0.0968 - val_mse: 0.0181\n",
            "Split: 2 Epochs: 18/30\n",
            "\u001b[1m354/354\u001b[0m \u001b[32m━━━━━━━━━━━━━━━━━━━━\u001b[0m\u001b[37m\u001b[0m \u001b[1m4s\u001b[0m 11ms/step - loss: 0.0960 - mae: 0.0960 - mse: 0.0187 - val_loss: 0.0871 - val_mae: 0.0871 - val_mse: 0.0153\n",
            "Split: 2 Epochs: 19/30\n",
            "\u001b[1m354/354\u001b[0m \u001b[32m━━━━━━━━━━━━━━━━━━━━\u001b[0m\u001b[37m\u001b[0m \u001b[1m4s\u001b[0m 10ms/step - loss: 0.0963 - mae: 0.0963 - mse: 0.0187 - val_loss: 0.0899 - val_mae: 0.0899 - val_mse: 0.0150\n",
            "Split: 2 Epochs: 20/30\n",
            "\u001b[1m354/354\u001b[0m \u001b[32m━━━━━━━━━━━━━━━━━━━━\u001b[0m\u001b[37m\u001b[0m \u001b[1m4s\u001b[0m 12ms/step - loss: 0.0939 - mae: 0.0939 - mse: 0.0179 - val_loss: 0.0864 - val_mae: 0.0864 - val_mse: 0.0148\n",
            "Split: 2 Epochs: 21/30\n",
            "\u001b[1m354/354\u001b[0m \u001b[32m━━━━━━━━━━━━━━━━━━━━\u001b[0m\u001b[37m\u001b[0m \u001b[1m4s\u001b[0m 10ms/step - loss: 0.0948 - mae: 0.0948 - mse: 0.0186 - val_loss: 0.0947 - val_mae: 0.0947 - val_mse: 0.0172\n",
            "Split: 2 Epochs: 22/30\n",
            "\u001b[1m354/354\u001b[0m \u001b[32m━━━━━━━━━━━━━━━━━━━━\u001b[0m\u001b[37m\u001b[0m \u001b[1m5s\u001b[0m 13ms/step - loss: 0.0934 - mae: 0.0934 - mse: 0.0178 - val_loss: 0.0845 - val_mae: 0.0845 - val_mse: 0.0141\n",
            "Split: 2 Epochs: 23/30\n",
            "\u001b[1m354/354\u001b[0m \u001b[32m━━━━━━━━━━━━━━━━━━━━\u001b[0m\u001b[37m\u001b[0m \u001b[1m4s\u001b[0m 11ms/step - loss: 0.0942 - mae: 0.0942 - mse: 0.0181 - val_loss: 0.0897 - val_mae: 0.0897 - val_mse: 0.0158\n",
            "Split: 2 Epochs: 24/30\n",
            "\u001b[1m354/354\u001b[0m \u001b[32m━━━━━━━━━━━━━━━━━━━━\u001b[0m\u001b[37m\u001b[0m \u001b[1m4s\u001b[0m 11ms/step - loss: 0.0932 - mae: 0.0932 - mse: 0.0178 - val_loss: 0.0873 - val_mae: 0.0873 - val_mse: 0.0152\n",
            "Split: 2 Epochs: 25/30\n",
            "\u001b[1m354/354\u001b[0m \u001b[32m━━━━━━━━━━━━━━━━━━━━\u001b[0m\u001b[37m\u001b[0m \u001b[1m5s\u001b[0m 14ms/step - loss: 0.0921 - mae: 0.0921 - mse: 0.0175 - val_loss: 0.0917 - val_mae: 0.0917 - val_mse: 0.0172\n",
            "Split: 2 Epochs: 26/30\n",
            "\u001b[1m354/354\u001b[0m \u001b[32m━━━━━━━━━━━━━━━━━━━━\u001b[0m\u001b[37m\u001b[0m \u001b[1m4s\u001b[0m 10ms/step - loss: 0.0915 - mae: 0.0915 - mse: 0.0170 - val_loss: 0.0888 - val_mae: 0.0888 - val_mse: 0.0161\n",
            "Split: 2 Epochs: 27/30\n",
            "\u001b[1m354/354\u001b[0m \u001b[32m━━━━━━━━━━━━━━━━━━━━\u001b[0m\u001b[37m\u001b[0m \u001b[1m4s\u001b[0m 11ms/step - loss: 0.0918 - mae: 0.0918 - mse: 0.0174 - val_loss: 0.0893 - val_mae: 0.0893 - val_mse: 0.0154\n",
            "Split: 2 Epochs: 28/30\n",
            "\u001b[1m354/354\u001b[0m \u001b[32m━━━━━━━━━━━━━━━━━━━━\u001b[0m\u001b[37m\u001b[0m \u001b[1m5s\u001b[0m 14ms/step - loss: 0.0911 - mae: 0.0911 - mse: 0.0172 - val_loss: 0.0880 - val_mae: 0.0880 - val_mse: 0.0149\n",
            "Split: 2 Epochs: 29/30\n",
            "\u001b[1m354/354\u001b[0m \u001b[32m━━━━━━━━━━━━━━━━━━━━\u001b[0m\u001b[37m\u001b[0m \u001b[1m4s\u001b[0m 11ms/step - loss: 0.0904 - mae: 0.0904 - mse: 0.0168 - val_loss: 0.0889 - val_mae: 0.0889 - val_mse: 0.0154\n",
            "Test loss: 0.0951717272400856\n",
            "Test MSE: 0.017087139189243317\n",
            "Test MAE: 0.0951717272400856\n"
          ]
        },
        {
          "output_type": "display_data",
          "data": {
            "text/plain": [
              "<Figure size 1500x800 with 0 Axes>"
            ]
          },
          "metadata": {}
        },
        {
          "output_type": "display_data",
          "data": {
            "text/plain": [
              "<Figure size 640x480 with 1 Axes>"
            ],
            "image/png": "[encoded data removed]"
          },
          "metadata": {}
        },
        {
          "output_type": "stream",
          "name": "stdout",
          "text": [
            "\u001b[1m130/130\u001b[0m \u001b[32m━━━━━━━━━━━━━━━━━━━━\u001b[0m\u001b[37m\u001b[0m \u001b[1m1s\u001b[0m 4ms/step\n",
            "Test RMSE: 0.33488661774445727\n",
            "Test R^2 score: 0.4747945188187773\n",
            "Test MAPE: 23.7488%\n",
            "Test Accuracy (±10% tolerance): 29.2788%\n"
          ]
        }
      ],
      "source": [
        "### Create supervised learning\n",
        "\n",
        "\n",
        "df['future'] = df[\"Global_Active_Power\"].shift(-FUTURE_PERIOD_PREDICT)\n",
        "df.dropna(inplace=True)\n",
        "\n",
        "print(df[['Global_Active_Power','future']].head(10))\n",
        "\n",
        "##### cross validation for time series..... ##################################################################################################################\n",
        "\n",
        "count = 0\n",
        "\n",
        "#### Evaluation metrics.....\n",
        "evaluate_loss = []\n",
        "evaluate_mse = []\n",
        "evaluate_mlog = []\n",
        "evaluate_rmse = []\n",
        "evaluate_r2 = []\n",
        "evaluate_mape = []\n",
        "evaluate_accuracy = []\n",
        "\n",
        "val_loss = []\n",
        "loss = []\n",
        "\n",
        "\n",
        "tscv = TimeSeriesSplit(n_splits=3)\n",
        "for train_index, test_index in tscv.split(df):\n",
        "\n",
        "  if (count >= 2 ):\n",
        "\n",
        "    df2 = df.copy()\n",
        "\n",
        "    print(f'df:{df2[:len(train_index)].shape}  test_df:{df2[len(train_index):len(train_index)+len(test_index)].shape}')\n",
        "\n",
        "    test_df = df2[len(train_index):len(train_index)+len(test_index)]\n",
        "    df2 = df2[:len(train_index)]\n",
        "    valid_df, df2 = split_data(df2, 0.1)\n",
        "\n",
        "    print(f'df_shape{df2.shape}')\n",
        "    print(f'test_shape{test_df.shape}')\n",
        "    print(f'Valid_shape{valid_df.shape}')\n",
        "\n",
        "    df2.dropna(inplace=True)\n",
        "    valid_df.dropna(inplace=True)\n",
        "    test_df.dropna(inplace=True)\n",
        "\n",
        "  #### scale our data\n",
        "\n",
        "    scaler = MinMaxScaler(feature_range=(0, 1))\n",
        "\n",
        "    cols = [col for col in df.columns if col not in ['time']]\n",
        "\n",
        "    df2[cols] = scaler.fit_transform(df2[cols])\n",
        "    df2.dropna(inplace=True)\n",
        "\n",
        "    test_df[cols] = scaler.transform(test_df[cols])\n",
        "    test_df.dropna(inplace=True)\n",
        "\n",
        "    valid_df[cols] = scaler.transform(valid_df[cols])\n",
        "    valid_df.dropna(inplace=True)\n",
        "\n",
        "\n",
        "    train_x, train_y = preprocess_df(df2, shuffle=True)\n",
        "    valid_x, valid_y = preprocess_df(valid_df, shuffle=False)\n",
        "    test_x, test_y = preprocess_df(test_df, shuffle=False)\n",
        "\n",
        "    train_len = train_x.shape[0]\n",
        "    valid_len = valid_x.shape[0]\n",
        "    test_len = test_x.shape[0]\n",
        "    print(f'train_len before:{train_len} test_len:{test_len}')\n",
        "\n",
        "\n",
        "    train_len = train_length(train_len, BATCH_SIZE)\n",
        "    valid_len = train_length(valid_len, BATCH_SIZE)\n",
        "    test_len = train_length(test_len, BATCH_SIZE)\n",
        "\n",
        "    print(f'train_len after modulo:{train_len} test_len:{test_len}')\n",
        "\n",
        "    train_x = train_x[:train_len]\n",
        "    train_y = train_y[:train_len]\n",
        "\n",
        "    valid_x = valid_x[:valid_len]\n",
        "    valid_y = valid_y[:valid_len]\n",
        "\n",
        "    test_x = test_x[:test_len]\n",
        "    test_y = test_y[:test_len]\n",
        "\n",
        "    print(f'Train_x shape:{train_x.shape} Train_y shape:{train_y.shape}')\n",
        "    print(f'valid_x shape:{valid_x.shape} valid_y shape:{valid_y.shape}')\n",
        "    print(f'Test_x shape:{test_x.shape} Test_y shape:{test_y.shape} \\n')\n",
        "\n",
        "\n",
        "    \"\"\".....The model.....\"\"\"\n",
        "\n",
        "    model = get_model()\n",
        "    model.summary()\n",
        "\n",
        "    \"\"\".....train model.....\"\"\"\n",
        "\n",
        "    for i in range(EPOCHS):\n",
        "      print(f'Split: {count} Epochs: {i}/{EPOCHS}')\n",
        "\n",
        "      history = model.fit(\n",
        "        train_x, train_y,\n",
        "        batch_size = BATCH_SIZE,\n",
        "        epochs = 1,\n",
        "        validation_data = (valid_x, valid_y),\n",
        "      )\n",
        "\n",
        "\n",
        "      val_loss.append(history.history['val_loss'])\n",
        "      loss.append(history.history['loss'])\n",
        "\n",
        "      # Reset states for all LSTM layers\n",
        "      for layer in model.layers:\n",
        "          if isinstance(layer, LSTM):\n",
        "              layer.reset_states()\n",
        "\n",
        "\n",
        "    \"\"\" Evaluate model.......  \"\"\"\n",
        "\n",
        "    # Reset states before evaluation\n",
        "    for layer in model.layers:\n",
        "        if isinstance(layer, LSTM):\n",
        "            layer.reset_states()\n",
        "\n",
        "    score = model.evaluate(test_x, test_y,\n",
        "                         batch_size=BATCH_SIZE,\n",
        "                         verbose=0)\n",
        "    print('Test loss:', score[0])\n",
        "    print('Test MSE:', score[1])\n",
        "    print('Test MAE:', score[2])\n",
        "\n",
        "    evaluate_loss.append(score[0])\n",
        "    evaluate_mse.append(score[1])\n",
        "\n",
        "    ######## plot loss & val_loss\n",
        "\n",
        "    plot_history(loss, val_loss, EPOCHS)\n",
        "\n",
        "\n",
        "    #### make & evaluate our prediction\n",
        "\n",
        "    # Reset states before prediction\n",
        "    for layer in model.layers:\n",
        "        if isinstance(layer, LSTM):\n",
        "            layer.reset_states()\n",
        "\n",
        "    yhat = model.predict(test_x, batch_size=BATCH_SIZE)\n",
        "\n",
        "    ###### invert scaling for forecast\n",
        "    # Create a dummy array with same shape as original data\n",
        "    predict = np.zeros(shape=(len(yhat), len(df.columns)))\n",
        "    # Put our predictions in the Global_active_power column position\n",
        "    predict[:, df.columns.get_loc('Global_Active_Power')] = yhat[:, 0]\n",
        "\n",
        "    inv_yhat = scaler.inverse_transform(predict)\n",
        "    # Get back just the Global_active_power predictions\n",
        "    inv_yhat = inv_yhat[:, df.columns.get_loc('Global_Active_Power')]\n",
        "\n",
        "    ###### invert scaling for actual\n",
        "    actual = np.zeros(shape=(len(test_y), len(df.columns)))\n",
        "    actual[:, df.columns.get_loc('Global_Active_Power')] = test_y\n",
        "\n",
        "    inv_y = scaler.inverse_transform(actual)\n",
        "    inv_y = inv_y[:, df.columns.get_loc('Global_Active_Power')]\n",
        "\n",
        "    ##### calculate RMSE\n",
        "    rmse = np.sqrt(mean_squared_error(inv_y, inv_yhat))\n",
        "    print(f'Test RMSE: {rmse}')\n",
        "    evaluate_rmse.append(rmse)\n",
        "\n",
        "    ##### calculate R^2 metric\n",
        "    r2 = r2_score(inv_y, inv_yhat)\n",
        "    print(f'Test R^2 score: {r2}')\n",
        "    evaluate_r2.append(r2)\n",
        "\n",
        "    ##### calculate MAPE\n",
        "    mape = np.mean(np.abs((inv_y - inv_yhat) / inv_y)) * 100\n",
        "    print(f'Test MAPE: {mape:.4f}%')\n",
        "    evaluate_mape.append(mape)\n",
        "\n",
        "    ##### calculate regression-based accuracy\n",
        "    accuracy = regression_accuracy(inv_y, inv_yhat, tolerance=0.1)\n",
        "    print(f'Test Accuracy (±10% tolerance): {accuracy:.4f}%')\n",
        "    evaluate_accuracy.append(accuracy)\n",
        "\n",
        "  count += 1\n"
      ]
    },
    {
      "cell_type": "markdown",
      "source": [
        "# 3. Model Evaluation"
      ],
      "metadata": {
        "id": "4Ij9AcdwNP2g"
      }
    },
    {
      "cell_type": "markdown",
      "source": [
        "This section presents the aggregated results of the model’s predictive performance. By averaging key metrics across all validation splits, it provides a concise summary of how accurately the LSTM model forecasts household power consumption on unseen data."
      ],
      "metadata": {
        "id": "w5DKvf2eNklR"
      }
    },
    {
      "cell_type": "code",
      "execution_count": null,
      "metadata": {
        "colab": {
          "base_uri": "https://localhost:8080/"
        },
        "id": "za-EhFXImtSz",
        "outputId": "11502e00-686d-40a8-eba1-ca19de84ae60"
      },
      "outputs": [
        {
          "output_type": "stream",
          "name": "stdout",
          "text": [
            "\n",
            "\n",
            "Avg Loss:0.029056034982204437\n",
            "Avg MSE:0.0017885281704366207\n",
            "Avg RMSE:0.10834555179897669\n",
            "Avg R2:0.9448073343013211\n"
          ]
        }
      ],
      "source": [
        "avg_loss = np.average(evaluate_loss)\n",
        "avg_mse = np.average(evaluate_mse)\n",
        "avg_rmse = np.average(evaluate_rmse)\n",
        "avg_r2 = np.average(evaluate_r2)\n",
        "#avg_theil = np.average(evaluate_theil)\n",
        "avg_mape = np.average(evaluate_mape)\n",
        "\n",
        "print('\\n')\n",
        "print(f'Avg Loss:{avg_loss}')\n",
        "print(f'Avg MSE:{avg_mse}')\n",
        "print(f'Avg RMSE:{avg_rmse}')\n",
        "print(f'Avg R2:{avg_r2}')"
      ]
    }
  ],
  "metadata": {
    "colab": {
      "provenance": [],
      "gpuType": "T4",
      "include_colab_link": true
    },
    "kernelspec": {
      "display_name": "Python 3",
      "name": "python3"
    },
    "language_info": {
      "name": "python"
    },
    "accelerator": "GPU"
  },
  "nbformat": 4,
  "nbformat_minor": 0
}