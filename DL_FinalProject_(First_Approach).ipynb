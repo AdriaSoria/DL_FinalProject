{
  "cells": [
    {
      "cell_type": "markdown",
      "metadata": {
        "id": "view-in-github",
        "colab_type": "text"
      },
      "source": [
        "<a href=\"https://colab.research.google.com/github/AdriaSoria/DL_FinalProject/blob/main/DL_FinalProject_(First_Approach).ipynb\" target=\"_parent\"><img src=\"https://colab.research.google.com/assets/colab-badge.svg\" alt=\"Open In Colab\"/></a>"
      ]
    },
    {
      "cell_type": "markdown",
      "metadata": {
        "id": "8q6vLeXmw2q4"
      },
      "source": [
        "# <font color=CC0000> **Deep Learning**\n",
        "## <font color=CC0000> **Final Project: Energy Consumption Prediction**\n",
        "\n",
        "**P103 - Team L**\n",
        "\n",
        "*   Adrià Soria - 251729\n",
        "*   Judit Viladecans - 251437\n",
        "*   Paula Ceprián - 252503"
      ]
    },
    {
      "cell_type": "markdown",
      "metadata": {
        "id": "x9RpHHwbwHtO"
      },
      "source": [
        "# 0. Introduction\n",
        "\n",
        "This implementation presents a deep learning solution for predicting household electricity consumption patterns using Long Short-Term Memory (LSTM) networks. The primary objective is to forecast future power consumption values based on historical usage data, helping to anticipate energy demands at the household level. By analyzing temporal sequences of power-related features including global active power, reactive power, voltage, and current intensity, the model learns to recognize and predict consumption patterns across different time periods. This predictive capability has practical applications in smart home energy management, helping households optimize their energy usage and potentially reduce costs.\n",
        "\n",
        "The focus here is to:\n",
        "\n",
        "- **Train and run** a predictive model using  a sequence-to-sequence architecture with LSTM neural networks to forecast household electricity consumption.\n",
        "- **Iteratively enhance the basic LSTM architecture** through various optimization strategies to maximize prediction accuracy.\n",
        "- **Exploration of advanced features in the model design**, such as stateful LSTM layers and time series cross-validation, to improve upon the basic implementation and achieve more robust predictions."
      ]
    },
    {
      "cell_type": "markdown",
      "metadata": {
        "id": "yVCdvUFuLDbq"
      },
      "source": [
        "# 1. Model Design"
      ]
    },
    {
      "cell_type": "markdown",
      "metadata": {
        "id": "wC3l7FAMLMh8"
      },
      "source": [
        "### 1.1. Import Basic Libraries and Dataset\n",
        "In this section, we import the essential libraries for the model architecture design. The `clean_dataset.csv` dataset is loaded to preprocess and start the model training."
      ]
    },
    {
      "cell_type": "code",
      "execution_count": null,
      "metadata": {
        "id": "rMAvdNO4C8Kr"
      },
      "outputs": [],
      "source": [
        "import numpy as np\n",
        "import matplotlib.pyplot as plt\n",
        "import pandas as pd\n",
        "import time\n",
        "import random\n",
        "from math import sqrt\n",
        "from collections import deque\n",
        "\n",
        "from sklearn import preprocessing\n",
        "from sklearn.preprocessing import MinMaxScaler\n",
        "from sklearn import metrics\n",
        "from sklearn.metrics import mean_squared_error, r2_score, mean_squared_log_error\n",
        "from sklearn.model_selection import TimeSeriesSplit\n",
        "\n",
        "\n",
        "import tensorflow as tf\n",
        "from tensorflow import keras\n",
        "\n",
        "from tensorflow.keras.models import Sequential\n",
        "from tensorflow.keras.layers import Dense, Dropout, LSTM, Activation, Bidirectional, Input, LeakyReLU\n",
        "from tensorflow.keras.layers import Flatten, TimeDistributed\n",
        "\n",
        "from tensorflow.keras.callbacks import TensorBoard, ModelCheckpoint, EarlyStopping\n",
        "\n",
        "from google.colab import drive\n",
        "import os\n"
      ]
    },
    {
      "cell_type": "code",
      "execution_count": null,
      "metadata": {
        "colab": {
          "base_uri": "https://localhost:8080/"
        },
        "id": "0ppnj9oOm88D",
        "outputId": "22d61483-0b1e-4cf8-e09e-3abab4a6be97"
      },
      "outputs": [
        {
          "name": "stdout",
          "output_type": "stream",
          "text": [
            "Mounted at /content/drive\n"
          ]
        }
      ],
      "source": [
        "drive.mount('/content/drive')\n",
        "project_path = '/content/drive/Shareddrives/Deep Learning 2025/UPF_Deep_Learning_2025/Project/'\n",
        "\n",
        "os.chdir(project_path)"
      ]
    },
    {
      "cell_type": "code",
      "execution_count": null,
      "metadata": {
        "colab": {
          "base_uri": "https://localhost:8080/"
        },
        "id": "4P8XgcMcFQUt",
        "outputId": "c38b1df9-a878-47ca-c891-da0161752378"
      },
      "outputs": [
        {
          "name": "stdout",
          "output_type": "stream",
          "text": [
            "Initial data types:\n",
            "Datetime                  object\n",
            "Date                      object\n",
            "Time                      object\n",
            "Global Active Power      float64\n",
            "Global Reactive Power    float64\n",
            "Voltage                  float64\n",
            "Global Intensity         float64\n",
            "Sub Metering 1           float64\n",
            "Sub Metering 2           float64\n",
            "Sub Metering 3           float64\n",
            "Hour                       int64\n",
            "Year                       int64\n",
            "Year-Month                object\n",
            "Month                      int64\n",
            "Month-Day                 object\n",
            "dtype: object\n",
            "\n",
            "Final data types:\n",
            "Global_Active_Power      float64\n",
            "Global_Reactive_Power    float64\n",
            "Voltage                  float64\n",
            "Global_Intensity         float64\n",
            "Hour                       int32\n",
            "Month                      int32\n",
            "Day                        int32\n",
            "dtype: object\n",
            "\n",
            "Final columns:\n",
            "['Global_Active_Power', 'Global_Reactive_Power', 'Voltage', 'Global_Intensity', 'Hour', 'Month', 'Day']\n",
            "\n",
            "Shape of dataset: (34168, 7)\n",
            "\n",
            "First few rows of processed data:\n",
            "                     Global_Active_Power  Global_Reactive_Power     Voltage  \\\n",
            "Datetime                                                                      \n",
            "2006-12-16 17:00:00             4.222889               0.229000  234.643889   \n",
            "2006-12-16 18:00:00             3.632200               0.080033  234.580167   \n",
            "2006-12-16 19:00:00             3.400233               0.085233  233.232500   \n",
            "2006-12-16 20:00:00             3.268567               0.075100  234.071500   \n",
            "2006-12-16 21:00:00             3.056467               0.076667  237.158667   \n",
            "\n",
            "                     Global_Intensity  Hour  Month  Day  \n",
            "Datetime                                                 \n",
            "2006-12-16 17:00:00         18.100000    17     12   16  \n",
            "2006-12-16 18:00:00         15.600000    18     12   16  \n",
            "2006-12-16 19:00:00         14.503333    19     12   16  \n",
            "2006-12-16 20:00:00         13.916667    20     12   16  \n",
            "2006-12-16 21:00:00         13.046667    21     12   16  \n",
            "\n",
            "Dataset after preprocessing:\n",
            "                     Global_Active_Power  Global_Reactive_Power     Voltage  \\\n",
            "Datetime                                                                      \n",
            "2006-12-16 17:00:00             4.222889               0.229000  234.643889   \n",
            "2006-12-16 18:00:00             3.632200               0.080033  234.580167   \n",
            "2006-12-16 19:00:00             3.400233               0.085233  233.232500   \n",
            "2006-12-16 20:00:00             3.268567               0.075100  234.071500   \n",
            "2006-12-16 21:00:00             3.056467               0.076667  237.158667   \n",
            "\n",
            "                     Global_Intensity  Hour  Month  Day  \n",
            "Datetime                                                 \n",
            "2006-12-16 17:00:00         18.100000    17     12   16  \n",
            "2006-12-16 18:00:00         15.600000    18     12   16  \n",
            "2006-12-16 19:00:00         14.503333    19     12   16  \n",
            "2006-12-16 20:00:00         13.916667    20     12   16  \n",
            "2006-12-16 21:00:00         13.046667    21     12   16  \n",
            "\n",
            "Columns after preprocessing:\n",
            "['Global_Active_Power', 'Global_Reactive_Power', 'Voltage', 'Global_Intensity', 'Hour', 'Month', 'Day']\n",
            "\n",
            "Shape of dataset: (34168, 7)\n"
          ]
        }
      ],
      "source": [
        "df = pd.read_csv('clean_dataset.csv', sep=',', low_memory=False, encoding='utf-8')\n",
        "\n",
        "# Print initial data types\n",
        "print(\"Initial data types:\")\n",
        "print(df.dtypes)\n",
        "\n",
        "# 1. Handle datetime-related columns\n",
        "df['Datetime'] = pd.to_datetime(df['Datetime'])  # Convert to datetime\n",
        "df.set_index('Datetime', inplace=True)  # Set as index\n",
        "\n",
        "# 2. Drop redundant time-related columns since we have datetime index\n",
        "time_columns = ['Date', 'Time', 'Hour', 'Year', 'Year-Month', 'Month', 'Month-Day']\n",
        "df = df.drop(time_columns, axis=1)\n",
        "\n",
        "# 3. Drop sub-metering columns\n",
        "sub_metering_columns = ['Sub Metering 1', 'Sub Metering 2', 'Sub Metering 3']\n",
        "df = df.drop(sub_metering_columns, axis=1)\n",
        "\n",
        "# 4. Clean column names (remove spaces)\n",
        "df.columns = df.columns.str.replace(' ', '_')\n",
        "\n",
        "# 5. Ensure numeric columns are float\n",
        "numeric_columns = ['Global_Active_Power', 'Global_Reactive_Power', 'Voltage', 'Global_Intensity']\n",
        "for col in numeric_columns:\n",
        "    df[col] = df[col].astype('float64')\n",
        "\n",
        "# 6. Sort by datetime index and handle missing values\n",
        "df.sort_index(inplace=True)\n",
        "df.dropna(inplace=True)\n",
        "\n",
        "# 7. Resample to hourly data\n",
        "df = df.resample('1h').mean()\n",
        "df.dropna(inplace=True)\n",
        "\n",
        "# Now extract datetime-based features from the index\n",
        "df['Hour'] = df.index.hour\n",
        "df['Month'] = df.index.month\n",
        "df['Day'] = df.index.day\n",
        "\n",
        "# Print final information about the dataset\n",
        "print(\"\\nFinal data types:\")\n",
        "print(df.dtypes)\n",
        "print(\"\\nFinal columns:\")\n",
        "print(df.columns.tolist())\n",
        "print(\"\\nShape of dataset:\", df.shape)\n",
        "print(\"\\nFirst few rows of processed data:\")\n",
        "print(df.head())\n",
        "\n",
        "print(\"\\nDataset after preprocessing:\")\n",
        "print(df.head())\n",
        "print(\"\\nColumns after preprocessing:\")\n",
        "print(df.columns.tolist())\n",
        "print(\"\\nShape of dataset:\", df.shape)"
      ]
    },
    {
      "cell_type": "markdown",
      "metadata": {
        "id": "1ripY1xNKJiq"
      },
      "source": [
        "The dataset captures hourly household power consumption through four electrical parameters (Global Active Power, Global Reactive Power, Voltage, and Global Intensity) across 34,168 measurements starting from December 2006. The data is structured as a time series with measurements taken every hour, starting from December 16, 2006, at 17:00. These four parameters provide a comprehensive view of the household's electrical consumption patterns, which will be used by our LSTM model to learn and predict future consumption values."
      ]
    },
    {
      "cell_type": "code",
      "execution_count": null,
      "metadata": {
        "colab": {
          "base_uri": "https://localhost:8080/"
        },
        "id": "K_0FcjHyKgoD",
        "outputId": "def61954-9107-4e0e-c5a5-767aa2ed5607"
      },
      "outputs": [
        {
          "name": "stdout",
          "output_type": "stream",
          "text": [
            "df_shape arxika: (34153, 7)\n",
            "\n"
          ]
        }
      ],
      "source": [
        "#### Data Preprocessing\n",
        "\n",
        "#### Moving Average filtering... smoothing our data\n",
        "\n",
        "######## Smothing our data at first\n",
        "df = df.ewm(alpha=0.1).mean()\n",
        "df.dropna(inplace=True)\n",
        "\n",
        "# #Dropping the outlier rows with standard deviation\n",
        "factor = 5\n",
        "upper_lim = df['Global_Active_Power'].mean () + df['Global_Active_Power'].std () * factor\n",
        "lower_lim = df['Global_Active_Power'].mean () - df['Global_Active_Power'].std () * factor\n",
        "df = df[(df['Global_Active_Power'] < upper_lim) & (df['Global_Active_Power'] > lower_lim)]\n",
        "\n",
        "####### fill values summer of 2008\n",
        "\n",
        "times = pd.to_datetime(df.index)\n",
        "times = times.strftime(\"%Y-%m-%d\").tolist()\n",
        "temp = []\n",
        "for index,value in enumerate(times):\n",
        "  if(value > '2007-08-08' and value <'2007-09-01'):\n",
        "\n",
        "    #temp.append(float(df['Global_active_power'][index]))\n",
        "    temp.append(float(df.loc[df.index[index], 'Global_Active_Power']))\n",
        "\n",
        "temp = pd.Series(temp)\n",
        "temp = temp.ewm(alpha=0.15).mean()\n",
        "temp = temp.values\n",
        "\n",
        "k=0\n",
        "for index,value in enumerate(times):\n",
        "  if(value > '2008-08-08' and value <'2008-09-01'):\n",
        "    #df['Global_active_power'].iloc[index] = temp[k]\n",
        "    df.loc[df.index[index], 'Global_Active_Power'] = temp[k]\n",
        "    k += 1\n",
        "\n",
        "print(f'df_shape arxika: {df.shape}\\n')"
      ]
    },
    {
      "cell_type": "markdown",
      "metadata": {
        "id": "W9jpIe_RKrXl"
      },
      "source": [
        "We processes this time series data through several crucial steps: it first organizes the readings chronologically and standardizes the data format, then applies an exponential moving average (alpha=0.2) to smooth out short-term fluctuations in the measurements. To ensure data quality, it removes statistical outliers using a three-standard-deviation threshold and handles a specific data anomaly in the summer period of 2008 by filling it with smoothed values from the corresponding period in 2007."
      ]
    },
    {
      "cell_type": "markdown",
      "metadata": {
        "id": "Z36FrtJbDihu"
      },
      "source": [
        "### 1.2 LSTM Definition"
      ]
    },
    {
      "cell_type": "markdown",
      "metadata": {
        "id": "PtovK5YlMFiY"
      },
      "source": [
        "This section presents the core functions and neural network architecture used for forecasting household power consumption. The code defines key parameters for sequence length, prediction horizon, and model training, and implements utility functions for error calculation, data preprocessing, and time series splitting. At its core, the section introduces a deep learning model based on a stateful LSTM (Long Short-Term Memory) architecture, designed to capture temporal dependencies in sequential power usage data. The model is structured to process sequences of historical measurements and predict future consumption, forming the foundation for the project's predictive analytics."
      ]
    },
    {
      "cell_type": "code",
      "execution_count": null,
      "metadata": {
        "id": "g2pHs-qZC0FP"
      },
      "outputs": [],
      "source": [
        "def mean_absolute_percentage_error(y_true, y_pred):\n",
        "#     y_true, y_pred = check_arrays(y_true, y_pred)\n",
        "\n",
        "    ## Note: does not handle mix 1d representation\n",
        "    #if _is_1d(y_true):\n",
        "    #    y_true, y_pred = _check_1d_array(y_true, y_pred)\n",
        "\n",
        "    return np.mean(np.abs((y_true - y_pred) / y_true)) * 100\n",
        "\n",
        "\n",
        "def regression_accuracy(y_true, y_pred, tolerance):\n",
        "    \"\"\"\n",
        "    Calcula la \"accuracy\" de un modelo de regresión como el % de predicciones\n",
        "    que caen dentro de un margen relativo de tolerancia\n",
        "    \"\"\"\n",
        "    y_true = np.array(y_true)\n",
        "    y_pred = np.array(y_pred)\n",
        "    within_tolerance = np.abs(y_true - y_pred) <= (tolerance * np.abs(y_true))\n",
        "    return np.mean(within_tolerance) * 100  # en porcentaje\n",
        "\n",
        "\n",
        "def theil_u(yhat, y):\n",
        "\n",
        "  len_yhat = len(yhat)\n",
        "  sum1 = 0\n",
        "  sum2 = 0\n",
        "\n",
        "  for i in range(len_yhat-1):\n",
        "\n",
        "    sum1 += ( (yhat[i+1] - y[i+1]) / y[i] )**2\n",
        "    sum2 += ( (y[i+1] - y[i]) / y[i] )**2\n",
        "\n",
        "  return sqrt(sum1/sum2)\n",
        "\n",
        "\n",
        "def plot_history(loss, val_loss, epochs):\n",
        "\n",
        "  plt.figure(figsize=[15,8])\n",
        "  plt.figure()\n",
        "  plt.xlabel('Epoch')\n",
        "  plt.ylabel('Mean Square Error [$MPG^2$]')\n",
        "  plt.plot(range(epochs), loss, label='Train Error')\n",
        "  plt.plot(range(epochs), val_loss, label = 'Val Error')\n",
        "  plt.ylim([0.00,0.15])\n",
        "  plt.legend()\n",
        "  plt.show()\n",
        "\n",
        "\n",
        "def preprocess_df(df, shuffle=False):\n",
        "\n",
        "    sequential_data = []                    # this is a list that will CONTAIN the sequences\n",
        "    prev_days = deque(maxlen = SEQ_LEN)     # These will be our actual sequences.\n",
        "                                            # They are made with deque, which keeps the maximum length\n",
        "                                            # by popping out older values as new ones come in\n",
        "    for i in df.values:                                             # iterate over the values\n",
        "        prev_days.append([n for n in i[:-1]])                       # store all but the label\n",
        "        if len(prev_days) == SEQ_LEN:                               # make sure we have 30 sequences!\n",
        "            sequential_data.append([np.array(prev_days), i[-1]])    # append those bad boys!\n",
        "\n",
        "\n",
        "    if(shuffle == True):\n",
        "      random.shuffle(sequential_data)                                 # shuffle for good measure.\n",
        "\n",
        "\n",
        "    X = []\n",
        "    y = []\n",
        "\n",
        "    for seq, target in sequential_data:  # going over our new sequential data\n",
        "        X.append(seq)                    # X is the sequences (features)\n",
        "        y.append(target)                 # y is the targets/labels\n",
        "\n",
        "    return np.array(X), np.array(y)  # return X and y...and make X a numpy array!\n",
        "\n",
        "\n",
        "def train_length(length, batch_size):\n",
        "\n",
        "  length_values = []\n",
        "  for x in range( int(length)-100, int(length) ):\n",
        "    modulo = x % batch_size\n",
        "    if(modulo == 0 ):\n",
        "      length_values.append(x)\n",
        "\n",
        "  return ( max(length_values) )\n",
        "\n",
        "\n",
        "def split_data(df, percent):\n",
        "\n",
        "  length = len(df)\n",
        "  test_index = int(length*percent)\n",
        "  train_index = length - test_index\n",
        "  test_df = df[train_index:]\n",
        "  df = df[:train_index]\n",
        "\n",
        "  return test_df, df\n",
        "\n",
        "\n",
        "def get_model():\n",
        "\n",
        "  model = Sequential([\n",
        "    Input(shape=(train_x.shape[1], train_x.shape[2]), batch_size=BATCH_SIZE),\n",
        "    LSTM(36, stateful=True, return_sequences=True),\n",
        "    Activation('relu'),\n",
        "    LSTM(36, stateful=True, return_sequences=False),\n",
        "    Activation('relu'),\n",
        "    Dense(1)\n",
        "  ])\n",
        "\n",
        "  \"\"\".....compile model.....\"\"\"\n",
        "\n",
        "  model.compile(loss = 'mae',\n",
        "              optimizer = 'adam',\n",
        "              metrics = ['mse', 'mae'])\n",
        "\n",
        "  return model"
      ]
    },
    {
      "cell_type": "markdown",
      "metadata": {
        "id": "iPO_c0UNM340"
      },
      "source": [
        "# 2. Model Training"
      ]
    },
    {
      "cell_type": "markdown",
      "metadata": {
        "id": "IFADfY4zM73G"
      },
      "source": [
        "This section details the training procedure for the LSTM-based power consumption forecasting model. The code transforms the time series data into a supervised learning format, where the model learns to predict future power usage based on sequences of past measurements. It employs time series cross-validation to robustly assess model performance, splitting the data into training, validation, and test sets in a way that respects the temporal order of the data. During each split, the model is trained, validated, and evaluated using several performance metrics, with careful handling of data scaling and LSTM state management. This systematic approach ensures that the model is both well-trained and fairly evaluated on unseen data, providing reliable insights into its predictive capabilities."
      ]
    },
    {
      "cell_type": "code",
      "execution_count": null,
      "metadata": {
        "id": "BTjMA-GWMlNN"
      },
      "outputs": [],
      "source": [
        "SEQ_LEN = 50                    # how long of a preceeding sequence to collect for RNN (in 1hour minutes)\n",
        "FUTURE_PERIOD_PREDICT = 1       # how far into the future are we trying to predict? (in hours)\n",
        "EPOCHS = 20                     # how many passes through our data\n",
        "BATCH_SIZE = 64                 # how many batches? Try smaller batch if you're getting OOM (out of memory) errors."
      ]
    },
    {
      "cell_type": "code",
      "execution_count": null,
      "metadata": {
        "colab": {
          "background_save": true,
          "base_uri": "https://localhost:8080/",
          "height": 1000
        },
        "id": "9RYXomjV-NvA",
        "outputId": "1a4886a4-0e2a-4791-e481-42463eb6b541"
      },
      "outputs": [
        {
          "name": "stdout",
          "output_type": "stream",
          "text": [
            "                     Global_Active_Power    future\n",
            "Datetime                                          \n",
            "2006-12-16 22:00:00             3.191471  2.974897\n",
            "2006-12-16 23:00:00             2.974897  2.783085\n",
            "2006-12-17 00:00:00             2.783085  2.875533\n",
            "2006-12-17 01:00:00             2.875533  2.677740\n",
            "2006-12-17 02:00:00             2.677740  2.529743\n",
            "2006-12-17 03:00:00             2.529743  2.485988\n",
            "2006-12-17 04:00:00             2.485988  2.420388\n",
            "2006-12-17 05:00:00             2.420388  2.275543\n",
            "2006-12-17 06:00:00             2.275543  2.192996\n",
            "2006-12-17 07:00:00             2.192996  2.155875\n",
            "Yooooooo:(34152, 8)\n",
            "df:(25614, 8)  test_df:(8538, 8)\n",
            "df_shape(23053, 8)\n",
            "test_shape(8538, 8)\n",
            "Valid_shape(2561, 8)\n",
            "train_len before:23004 test_len:8489\n",
            "train_len after modulo:22976 test_len:8448\n",
            "Train_x shape:(22976, 50, 7) Train_y shape:(22976,)\n",
            "valid_x shape:(2496, 50, 7) valid_y shape:(2496,)\n",
            "Test_x shape:(8448, 50, 7) Test_y shape:(8448,) \n",
            "\n"
          ]
        },
        {
          "data": {
            "text/html": [
              "<pre style=\"white-space:pre;overflow-x:auto;line-height:normal;font-family:Menlo,'DejaVu Sans Mono',consolas,'Courier New',monospace\"><span style=\"font-weight: bold\">Model: \"sequential\"</span>\n",
              "</pre>\n"
            ],
            "text/plain": [
              "\u001b[1mModel: \"sequential\"\u001b[0m\n"
            ]
          },
          "metadata": {},
          "output_type": "display_data"
        },
        {
          "data": {
            "text/html": [
              "<pre style=\"white-space:pre;overflow-x:auto;line-height:normal;font-family:Menlo,'DejaVu Sans Mono',consolas,'Courier New',monospace\">┏━━━━━━━━━━━━━━━━━━━━━━━━━━━━━━━━━┳━━━━━━━━━━━━━━━━━━━━━━━━┳━━━━━━━━━━━━━━━┓\n",
              "┃<span style=\"font-weight: bold\"> Layer (type)                    </span>┃<span style=\"font-weight: bold\"> Output Shape           </span>┃<span style=\"font-weight: bold\">       Param # </span>┃\n",
              "┡━━━━━━━━━━━━━━━━━━━━━━━━━━━━━━━━━╇━━━━━━━━━━━━━━━━━━━━━━━━╇━━━━━━━━━━━━━━━┩\n",
              "│ lstm (<span style=\"color: #0087ff; text-decoration-color: #0087ff\">LSTM</span>)                     │ (<span style=\"color: #00af00; text-decoration-color: #00af00\">64</span>, <span style=\"color: #00af00; text-decoration-color: #00af00\">50</span>, <span style=\"color: #00af00; text-decoration-color: #00af00\">36</span>)           │         <span style=\"color: #00af00; text-decoration-color: #00af00\">6,336</span> │\n",
              "├─────────────────────────────────┼────────────────────────┼───────────────┤\n",
              "│ activation (<span style=\"color: #0087ff; text-decoration-color: #0087ff\">Activation</span>)         │ (<span style=\"color: #00af00; text-decoration-color: #00af00\">64</span>, <span style=\"color: #00af00; text-decoration-color: #00af00\">50</span>, <span style=\"color: #00af00; text-decoration-color: #00af00\">36</span>)           │             <span style=\"color: #00af00; text-decoration-color: #00af00\">0</span> │\n",
              "├─────────────────────────────────┼────────────────────────┼───────────────┤\n",
              "│ lstm_1 (<span style=\"color: #0087ff; text-decoration-color: #0087ff\">LSTM</span>)                   │ (<span style=\"color: #00af00; text-decoration-color: #00af00\">64</span>, <span style=\"color: #00af00; text-decoration-color: #00af00\">36</span>)               │        <span style=\"color: #00af00; text-decoration-color: #00af00\">10,512</span> │\n",
              "├─────────────────────────────────┼────────────────────────┼───────────────┤\n",
              "│ activation_1 (<span style=\"color: #0087ff; text-decoration-color: #0087ff\">Activation</span>)       │ (<span style=\"color: #00af00; text-decoration-color: #00af00\">64</span>, <span style=\"color: #00af00; text-decoration-color: #00af00\">36</span>)               │             <span style=\"color: #00af00; text-decoration-color: #00af00\">0</span> │\n",
              "├─────────────────────────────────┼────────────────────────┼───────────────┤\n",
              "│ dense (<span style=\"color: #0087ff; text-decoration-color: #0087ff\">Dense</span>)                   │ (<span style=\"color: #00af00; text-decoration-color: #00af00\">64</span>, <span style=\"color: #00af00; text-decoration-color: #00af00\">1</span>)                │            <span style=\"color: #00af00; text-decoration-color: #00af00\">37</span> │\n",
              "└─────────────────────────────────┴────────────────────────┴───────────────┘\n",
              "</pre>\n"
            ],
            "text/plain": [
              "┏━━━━━━━━━━━━━━━━━━━━━━━━━━━━━━━━━┳━━━━━━━━━━━━━━━━━━━━━━━━┳━━━━━━━━━━━━━━━┓\n",
              "┃\u001b[1m \u001b[0m\u001b[1mLayer (type)                   \u001b[0m\u001b[1m \u001b[0m┃\u001b[1m \u001b[0m\u001b[1mOutput Shape          \u001b[0m\u001b[1m \u001b[0m┃\u001b[1m \u001b[0m\u001b[1m      Param #\u001b[0m\u001b[1m \u001b[0m┃\n",
              "┡━━━━━━━━━━━━━━━━━━━━━━━━━━━━━━━━━╇━━━━━━━━━━━━━━━━━━━━━━━━╇━━━━━━━━━━━━━━━┩\n",
              "│ lstm (\u001b[38;5;33mLSTM\u001b[0m)                     │ (\u001b[38;5;34m64\u001b[0m, \u001b[38;5;34m50\u001b[0m, \u001b[38;5;34m36\u001b[0m)           │         \u001b[38;5;34m6,336\u001b[0m │\n",
              "├─────────────────────────────────┼────────────────────────┼───────────────┤\n",
              "│ activation (\u001b[38;5;33mActivation\u001b[0m)         │ (\u001b[38;5;34m64\u001b[0m, \u001b[38;5;34m50\u001b[0m, \u001b[38;5;34m36\u001b[0m)           │             \u001b[38;5;34m0\u001b[0m │\n",
              "├─────────────────────────────────┼────────────────────────┼───────────────┤\n",
              "│ lstm_1 (\u001b[38;5;33mLSTM\u001b[0m)                   │ (\u001b[38;5;34m64\u001b[0m, \u001b[38;5;34m36\u001b[0m)               │        \u001b[38;5;34m10,512\u001b[0m │\n",
              "├─────────────────────────────────┼────────────────────────┼───────────────┤\n",
              "│ activation_1 (\u001b[38;5;33mActivation\u001b[0m)       │ (\u001b[38;5;34m64\u001b[0m, \u001b[38;5;34m36\u001b[0m)               │             \u001b[38;5;34m0\u001b[0m │\n",
              "├─────────────────────────────────┼────────────────────────┼───────────────┤\n",
              "│ dense (\u001b[38;5;33mDense\u001b[0m)                   │ (\u001b[38;5;34m64\u001b[0m, \u001b[38;5;34m1\u001b[0m)                │            \u001b[38;5;34m37\u001b[0m │\n",
              "└─────────────────────────────────┴────────────────────────┴───────────────┘\n"
            ]
          },
          "metadata": {},
          "output_type": "display_data"
        },
        {
          "data": {
            "text/html": [
              "<pre style=\"white-space:pre;overflow-x:auto;line-height:normal;font-family:Menlo,'DejaVu Sans Mono',consolas,'Courier New',monospace\"><span style=\"font-weight: bold\"> Total params: </span><span style=\"color: #00af00; text-decoration-color: #00af00\">16,885</span> (65.96 KB)\n",
              "</pre>\n"
            ],
            "text/plain": [
              "\u001b[1m Total params: \u001b[0m\u001b[38;5;34m16,885\u001b[0m (65.96 KB)\n"
            ]
          },
          "metadata": {},
          "output_type": "display_data"
        },
        {
          "data": {
            "text/html": [
              "<pre style=\"white-space:pre;overflow-x:auto;line-height:normal;font-family:Menlo,'DejaVu Sans Mono',consolas,'Courier New',monospace\"><span style=\"font-weight: bold\"> Trainable params: </span><span style=\"color: #00af00; text-decoration-color: #00af00\">16,885</span> (65.96 KB)\n",
              "</pre>\n"
            ],
            "text/plain": [
              "\u001b[1m Trainable params: \u001b[0m\u001b[38;5;34m16,885\u001b[0m (65.96 KB)\n"
            ]
          },
          "metadata": {},
          "output_type": "display_data"
        },
        {
          "data": {
            "text/html": [
              "<pre style=\"white-space:pre;overflow-x:auto;line-height:normal;font-family:Menlo,'DejaVu Sans Mono',consolas,'Courier New',monospace\"><span style=\"font-weight: bold\"> Non-trainable params: </span><span style=\"color: #00af00; text-decoration-color: #00af00\">0</span> (0.00 B)\n",
              "</pre>\n"
            ],
            "text/plain": [
              "\u001b[1m Non-trainable params: \u001b[0m\u001b[38;5;34m0\u001b[0m (0.00 B)\n"
            ]
          },
          "metadata": {},
          "output_type": "display_data"
        },
        {
          "name": "stdout",
          "output_type": "stream",
          "text": [
            "Split: 2 Epochs: 0/20\n",
            "\u001b[1m359/359\u001b[0m \u001b[32m━━━━━━━━━━━━━━━━━━━━\u001b[0m\u001b[37m\u001b[0m \u001b[1m6s\u001b[0m 9ms/step - loss: 0.0815 - mae: 0.0815 - mse: 0.0136 - val_loss: 0.0360 - val_mae: 0.0360 - val_mse: 0.0023\n",
            "Split: 2 Epochs: 1/20\n",
            "\u001b[1m359/359\u001b[0m \u001b[32m━━━━━━━━━━━━━━━━━━━━\u001b[0m\u001b[37m\u001b[0m \u001b[1m4s\u001b[0m 10ms/step - loss: 0.0337 - mae: 0.0337 - mse: 0.0020 - val_loss: 0.0196 - val_mae: 0.0196 - val_mse: 6.0352e-04\n",
            "Split: 2 Epochs: 2/20\n",
            "\u001b[1m359/359\u001b[0m \u001b[32m━━━━━━━━━━━━━━━━━━━━\u001b[0m\u001b[37m\u001b[0m \u001b[1m3s\u001b[0m 8ms/step - loss: 0.0210 - mae: 0.0210 - mse: 7.9872e-04 - val_loss: 0.0156 - val_mae: 0.0156 - val_mse: 4.7958e-04\n",
            "Split: 2 Epochs: 3/20\n",
            "\u001b[1m359/359\u001b[0m \u001b[32m━━━━━━━━━━━━━━━━━━━━\u001b[0m\u001b[37m\u001b[0m \u001b[1m3s\u001b[0m 8ms/step - loss: 0.0174 - mae: 0.0174 - mse: 5.6594e-04 - val_loss: 0.0138 - val_mae: 0.0138 - val_mse: 3.5919e-04\n",
            "Split: 2 Epochs: 4/20\n",
            "\u001b[1m359/359\u001b[0m \u001b[32m━━━━━━━━━━━━━━━━━━━━\u001b[0m\u001b[37m\u001b[0m \u001b[1m3s\u001b[0m 10ms/step - loss: 0.0161 - mae: 0.0161 - mse: 4.9693e-04 - val_loss: 0.0145 - val_mae: 0.0145 - val_mse: 3.5738e-04\n",
            "Split: 2 Epochs: 5/20\n",
            "\u001b[1m359/359\u001b[0m \u001b[32m━━━━━━━━━━━━━━━━━━━━\u001b[0m\u001b[37m\u001b[0m \u001b[1m3s\u001b[0m 8ms/step - loss: 0.0155 - mae: 0.0155 - mse: 4.6820e-04 - val_loss: 0.0131 - val_mae: 0.0131 - val_mse: 3.5470e-04\n",
            "Split: 2 Epochs: 6/20\n",
            "\u001b[1m359/359\u001b[0m \u001b[32m━━━━━━━━━━━━━━━━━━━━\u001b[0m\u001b[37m\u001b[0m \u001b[1m3s\u001b[0m 8ms/step - loss: 0.0151 - mae: 0.0151 - mse: 4.6037e-04 - val_loss: 0.0132 - val_mae: 0.0132 - val_mse: 3.6674e-04\n",
            "Split: 2 Epochs: 7/20\n",
            "\u001b[1m359/359\u001b[0m \u001b[32m━━━━━━━━━━━━━━━━━━━━\u001b[0m\u001b[37m\u001b[0m \u001b[1m3s\u001b[0m 8ms/step - loss: 0.0144 - mae: 0.0144 - mse: 4.3640e-04 - val_loss: 0.0128 - val_mae: 0.0128 - val_mse: 3.3715e-04\n",
            "Split: 2 Epochs: 8/20\n",
            "\u001b[1m359/359\u001b[0m \u001b[32m━━━━━━━━━━━━━━━━━━━━\u001b[0m\u001b[37m\u001b[0m \u001b[1m3s\u001b[0m 8ms/step - loss: 0.0145 - mae: 0.0145 - mse: 4.2938e-04 - val_loss: 0.0149 - val_mae: 0.0149 - val_mse: 4.4374e-04\n",
            "Split: 2 Epochs: 9/20\n",
            "\u001b[1m359/359\u001b[0m \u001b[32m━━━━━━━━━━━━━━━━━━━━\u001b[0m\u001b[37m\u001b[0m \u001b[1m3s\u001b[0m 7ms/step - loss: 0.0144 - mae: 0.0144 - mse: 4.3015e-04 - val_loss: 0.0133 - val_mae: 0.0133 - val_mse: 3.8195e-04\n",
            "Split: 2 Epochs: 10/20\n",
            "\u001b[1m359/359\u001b[0m \u001b[32m━━━━━━━━━━━━━━━━━━━━\u001b[0m\u001b[37m\u001b[0m \u001b[1m3s\u001b[0m 8ms/step - loss: 0.0144 - mae: 0.0144 - mse: 4.2892e-04 - val_loss: 0.0163 - val_mae: 0.0163 - val_mse: 4.0170e-04\n",
            "Split: 2 Epochs: 11/20\n",
            "\u001b[1m359/359\u001b[0m \u001b[32m━━━━━━━━━━━━━━━━━━━━\u001b[0m\u001b[37m\u001b[0m \u001b[1m3s\u001b[0m 8ms/step - loss: 0.0142 - mae: 0.0142 - mse: 4.1708e-04 - val_loss: 0.0136 - val_mae: 0.0136 - val_mse: 3.8116e-04\n",
            "Split: 2 Epochs: 12/20\n",
            "\u001b[1m359/359\u001b[0m \u001b[32m━━━━━━━━━━━━━━━━━━━━\u001b[0m\u001b[37m\u001b[0m \u001b[1m3s\u001b[0m 9ms/step - loss: 0.0144 - mae: 0.0144 - mse: 4.2348e-04 - val_loss: 0.0127 - val_mae: 0.0127 - val_mse: 3.2761e-04\n",
            "Split: 2 Epochs: 13/20\n",
            "\u001b[1m359/359\u001b[0m \u001b[32m━━━━━━━━━━━━━━━━━━━━\u001b[0m\u001b[37m\u001b[0m \u001b[1m3s\u001b[0m 8ms/step - loss: 0.0139 - mae: 0.0139 - mse: 4.0057e-04 - val_loss: 0.0130 - val_mae: 0.0130 - val_mse: 3.2015e-04\n",
            "Split: 2 Epochs: 14/20\n",
            "\u001b[1m359/359\u001b[0m \u001b[32m━━━━━━━━━━━━━━━━━━━━\u001b[0m\u001b[37m\u001b[0m \u001b[1m3s\u001b[0m 8ms/step - loss: 0.0138 - mae: 0.0138 - mse: 4.0248e-04 - val_loss: 0.0134 - val_mae: 0.0134 - val_mse: 3.8344e-04\n",
            "Split: 2 Epochs: 15/20\n",
            "\u001b[1m359/359\u001b[0m \u001b[32m━━━━━━━━━━━━━━━━━━━━\u001b[0m\u001b[37m\u001b[0m \u001b[1m4s\u001b[0m 10ms/step - loss: 0.0142 - mae: 0.0142 - mse: 4.1738e-04 - val_loss: 0.0124 - val_mae: 0.0124 - val_mse: 3.3717e-04\n",
            "Split: 2 Epochs: 16/20\n",
            "\u001b[1m359/359\u001b[0m \u001b[32m━━━━━━━━━━━━━━━━━━━━\u001b[0m\u001b[37m\u001b[0m \u001b[1m3s\u001b[0m 7ms/step - loss: 0.0139 - mae: 0.0139 - mse: 4.0262e-04 - val_loss: 0.0144 - val_mae: 0.0144 - val_mse: 4.1668e-04\n",
            "Split: 2 Epochs: 17/20\n",
            "\u001b[1m359/359\u001b[0m \u001b[32m━━━━━━━━━━━━━━━━━━━━\u001b[0m\u001b[37m\u001b[0m \u001b[1m3s\u001b[0m 8ms/step - loss: 0.0139 - mae: 0.0139 - mse: 3.9737e-04 - val_loss: 0.0124 - val_mae: 0.0124 - val_mse: 3.1071e-04\n",
            "Split: 2 Epochs: 18/20\n",
            "\u001b[1m359/359\u001b[0m \u001b[32m━━━━━━━━━━━━━━━━━━━━\u001b[0m\u001b[37m\u001b[0m \u001b[1m3s\u001b[0m 8ms/step - loss: 0.0136 - mae: 0.0136 - mse: 3.9103e-04 - val_loss: 0.0135 - val_mae: 0.0135 - val_mse: 3.8761e-04\n",
            "Split: 2 Epochs: 19/20\n",
            "\u001b[1m359/359\u001b[0m \u001b[32m━━━━━━━━━━━━━━━━━━━━\u001b[0m\u001b[37m\u001b[0m \u001b[1m3s\u001b[0m 9ms/step - loss: 0.0138 - mae: 0.0138 - mse: 3.9744e-04 - val_loss: 0.0142 - val_mae: 0.0142 - val_mse: 3.2857e-04\n",
            "Test loss: 0.013177616521716118\n",
            "Test MSE: 0.00030025490559637547\n",
            "Test MAE: 0.013177616521716118\n"
          ]
        },
        {
          "data": {
            "text/plain": [
              "<Figure size 1500x800 with 0 Axes>"
            ]
          },
          "metadata": {},
          "output_type": "display_data"
        },
        {
          "data": {
            "image/png": "[encoded data removed]",
            "text/plain": [
              "<Figure size 640x480 with 1 Axes>"
            ]
          },
          "metadata": {},
          "output_type": "display_data"
        },
        {
          "name": "stdout",
          "output_type": "stream",
          "text": [
            "\u001b[1m132/132\u001b[0m \u001b[32m━━━━━━━━━━━━━━━━━━━━\u001b[0m\u001b[37m\u001b[0m \u001b[1m1s\u001b[0m 3ms/step\n",
            "Test RMSE: 0.053900344067924266\n",
            "Test R^2 score: 0.9793679688292339\n",
            "Test MAPE: 4.1046%\n",
            "Test Accuracy (±10% tolerance): 93.9394%\n"
          ]
        }
      ],
      "source": [
        "### Create supervised learning\n",
        "\n",
        "\n",
        "df['future'] = df[\"Global_Active_Power\"].shift(-FUTURE_PERIOD_PREDICT)\n",
        "df.dropna(inplace=True)\n",
        "\n",
        "print(df[['Global_Active_Power','future']].head(10))\n",
        "\n",
        "\n",
        "##### cross validation for time series\n",
        "\n",
        "count = 0\n",
        "\n",
        "#### Evaluation metrics\n",
        "evaluate_loss = []\n",
        "evaluate_mse = []\n",
        "evaluate_mlog = []\n",
        "evaluate_rmse = []\n",
        "evaluate_r2 = []\n",
        "evaluate_mape = []\n",
        "evaluate_accuracy = []\n",
        "\n",
        "val_loss = []\n",
        "loss = []\n",
        "\n",
        "\n",
        "tscv = TimeSeriesSplit(n_splits=3)\n",
        "for train_index, test_index in tscv.split(df):\n",
        "\n",
        "  if (count >= 2 ):\n",
        "\n",
        "    df2 = df.copy()\n",
        "\n",
        "    print(f'df:{df2[:len(train_index)].shape}  test_df:{df2[len(train_index):len(train_index)+len(test_index)].shape}')\n",
        "\n",
        "    test_df = df2[len(train_index):len(train_index)+len(test_index)]\n",
        "    df2 = df2[:len(train_index)]\n",
        "    valid_df, df2 = split_data(df2, 0.1)\n",
        "\n",
        "    print(f'df_shape{df2.shape}')\n",
        "    print(f'test_shape{test_df.shape}')\n",
        "    print(f'Valid_shape{valid_df.shape}')\n",
        "\n",
        "    df2.dropna(inplace=True)\n",
        "    valid_df.dropna(inplace=True)\n",
        "    test_df.dropna(inplace=True)\n",
        "\n",
        "  #### scale our data\n",
        "\n",
        "    scaler = MinMaxScaler(feature_range=(0, 1))\n",
        "\n",
        "    cols = [col for col in df.columns if col not in ['time']]\n",
        "\n",
        "    df2[cols] = scaler.fit_transform(df2[cols])\n",
        "    df2.dropna(inplace=True)\n",
        "\n",
        "    test_df[cols] = scaler.transform(test_df[cols])\n",
        "    test_df.dropna(inplace=True)\n",
        "\n",
        "    valid_df[cols] = scaler.transform(valid_df[cols])\n",
        "    valid_df.dropna(inplace=True)\n",
        "\n",
        "\n",
        "    train_x, train_y = preprocess_df(df2, shuffle=True)\n",
        "    valid_x, valid_y = preprocess_df(valid_df, shuffle=False)\n",
        "    test_x, test_y = preprocess_df(test_df, shuffle=False)\n",
        "\n",
        "    train_len = train_x.shape[0]\n",
        "    valid_len = valid_x.shape[0]\n",
        "    test_len = test_x.shape[0]\n",
        "    print(f'train_len before:{train_len} test_len:{test_len}')\n",
        "\n",
        "    train_len = train_length(train_len, BATCH_SIZE)\n",
        "    valid_len = train_length(valid_len, BATCH_SIZE)\n",
        "    test_len = train_length(test_len, BATCH_SIZE)\n",
        "\n",
        "    print(f'train_len after modulo:{train_len} test_len:{test_len}')\n",
        "\n",
        "    train_x = train_x[:train_len]\n",
        "    train_y = train_y[:train_len]\n",
        "\n",
        "    valid_x = valid_x[:valid_len]\n",
        "    valid_y = valid_y[:valid_len]\n",
        "\n",
        "    test_x = test_x[:test_len]\n",
        "    test_y = test_y[:test_len]\n",
        "\n",
        "    print(f'Train_x shape:{train_x.shape} Train_y shape:{train_y.shape}')\n",
        "    print(f'valid_x shape:{valid_x.shape} valid_y shape:{valid_y.shape}')\n",
        "    print(f'Test_x shape:{test_x.shape} Test_y shape:{test_y.shape} \\n')\n",
        "\n",
        "\n",
        "    \"\"\".....The model.....\"\"\"\n",
        "\n",
        "    model = get_model()\n",
        "    model.summary()\n",
        "\n",
        "    \"\"\".....train model.....\"\"\"\n",
        "\n",
        "    #Stateful LSTM\n",
        "\n",
        "    for i in range(EPOCHS):\n",
        "      print(f'Split: {count} Epochs: {i}/{EPOCHS}')\n",
        "\n",
        "      history = model.fit(\n",
        "        train_x, train_y,\n",
        "        batch_size = BATCH_SIZE,\n",
        "        epochs = 1,\n",
        "        validation_data = (valid_x, valid_y),\n",
        "      )\n",
        "\n",
        "\n",
        "      val_loss.append(history.history['val_loss'])\n",
        "      loss.append(history.history['loss'])\n",
        "\n",
        "      # Reset states for all LSTM layers\n",
        "      for layer in model.layers:\n",
        "          if isinstance(layer, LSTM):\n",
        "              layer.reset_states()\n",
        "\n",
        "\n",
        "    \"\"\" Evaluate model.......  \"\"\"\n",
        "\n",
        "    # Reset states before evaluation\n",
        "    for layer in model.layers:\n",
        "        if isinstance(layer, LSTM):\n",
        "            layer.reset_states()\n",
        "\n",
        "    score = model.evaluate(test_x, test_y,\n",
        "                         batch_size=BATCH_SIZE,\n",
        "                         verbose=0)\n",
        "    print('Test loss:', score[0])\n",
        "    print('Test MSE:', score[1])\n",
        "    print('Test MAE:', score[2])\n",
        "\n",
        "    evaluate_loss.append(score[0])\n",
        "    evaluate_mse.append(score[1])\n",
        "\n",
        "    ######## plot loss & val_loss\n",
        "\n",
        "    plot_history(loss, val_loss, EPOCHS)\n",
        "\n",
        "\n",
        "    #### make & evaluate our prediction\n",
        "\n",
        "    # Reset states before prediction\n",
        "    for layer in model.layers:\n",
        "        if isinstance(layer, LSTM):\n",
        "            layer.reset_states()\n",
        "\n",
        "    yhat = model.predict(test_x, batch_size=BATCH_SIZE)\n",
        "\n",
        "    ###### invert scaling for forecast\n",
        "    # Create a dummy array with same shape as original data\n",
        "    predict = np.zeros(shape=(len(yhat), len(df.columns)))\n",
        "    # Put our predictions in the Global_active_power column position\n",
        "    predict[:, df.columns.get_loc('Global_Active_Power')] = yhat[:, 0]\n",
        "\n",
        "    inv_yhat = scaler.inverse_transform(predict)\n",
        "    # Get back just the Global_active_power predictions\n",
        "    inv_yhat = inv_yhat[:, df.columns.get_loc('Global_Active_Power')]\n",
        "\n",
        "    ###### invert scaling for actual\n",
        "    actual = np.zeros(shape=(len(test_y), len(df.columns)))\n",
        "    actual[:, df.columns.get_loc('Global_Active_Power')] = test_y\n",
        "\n",
        "    inv_y = scaler.inverse_transform(actual)\n",
        "    inv_y = inv_y[:, df.columns.get_loc('Global_Active_Power')]\n",
        "\n",
        "    ##### calculate RMSE\n",
        "    rmse = np.sqrt(mean_squared_error(inv_y, inv_yhat))\n",
        "    print(f'Test RMSE: {rmse}')\n",
        "    evaluate_rmse.append(rmse)\n",
        "\n",
        "    ##### calculate R^2 metric\n",
        "    r2 = r2_score(inv_y, inv_yhat)\n",
        "    print(f'Test R^2 score: {r2}')\n",
        "    evaluate_r2.append(r2)\n",
        "\n",
        "    ##### calculate MAPE\n",
        "    mape = np.mean(np.abs((inv_y - inv_yhat) / inv_y)) * 100\n",
        "    print(f'Test MAPE: {mape:.4f}%')\n",
        "    evaluate_mape.append(mape)\n",
        "\n",
        "    ##### calculate regression-based accuracy\n",
        "    accuracy = regression_accuracy(inv_y, inv_yhat, tolerance=0.1)\n",
        "    print(f'Test Accuracy (±10% tolerance): {accuracy:.4f}%')\n",
        "    evaluate_accuracy.append(accuracy)\n",
        "\n",
        "  count += 1\n"
      ]
    },
    {
      "cell_type": "markdown",
      "metadata": {
        "id": "4Ij9AcdwNP2g"
      },
      "source": [
        "# 3. Model Evaluation"
      ]
    },
    {
      "cell_type": "markdown",
      "metadata": {
        "id": "w5DKvf2eNklR"
      },
      "source": [
        "This section presents the aggregated results of the model’s predictive performance. By averaging key metrics across all validation splits, it provides a concise summary of how accurately the LSTM model forecasts household power consumption on unseen data."
      ]
    },
    {
      "cell_type": "code",
      "execution_count": null,
      "metadata": {
        "id": "za-EhFXImtSz"
      },
      "outputs": [],
      "source": [
        "avg_loss = np.average(evaluate_loss)\n",
        "avg_mse = np.average(evaluate_mse)\n",
        "avg_rmse = np.average(evaluate_rmse)\n",
        "avg_r2 = np.average(evaluate_r2)\n",
        "avg_mape = np.average(evaluate_mape)\n",
        "\n",
        "print('\\n')\n",
        "print(f'Avg Loss:{avg_loss}')\n",
        "print(f'Avg MSE:{avg_mse}')\n",
        "print(f'Avg RMSE:{avg_rmse}')\n",
        "print(f'Avg R2:{avg_r2}')"
      ]
    }
  ],
  "metadata": {
    "accelerator": "GPU",
    "colab": {
      "gpuType": "T4",
      "provenance": [],
      "include_colab_link": true
    },
    "kernelspec": {
      "display_name": "Python 3",
      "name": "python3"
    },
    "language_info": {
      "name": "python"
    }
  },
  "nbformat": 4,
  "nbformat_minor": 0
}